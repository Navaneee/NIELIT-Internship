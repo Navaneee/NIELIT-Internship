{
 "cells": [
  {
   "cell_type": "code",
   "execution_count": 1,
   "id": "d643726a-23f0-4719-bb32-22f3790bb541",
   "metadata": {},
   "outputs": [
    {
     "name": "stdout",
     "output_type": "stream",
     "text": [
      "Downloading data from https://storage.googleapis.com/tensorflow/tf-keras-datasets/boston_housing.npz\n",
      "\u001b[1m57026/57026\u001b[0m \u001b[32m━━━━━━━━━━━━━━━━━━━━\u001b[0m\u001b[37m\u001b[0m \u001b[1m0s\u001b[0m 1us/step\n"
     ]
    },
    {
     "name": "stderr",
     "output_type": "stream",
     "text": [
      "C:\\Users\\kjnav\\anaconda3\\Lib\\site-packages\\keras\\src\\layers\\core\\dense.py:87: UserWarning: Do not pass an `input_shape`/`input_dim` argument to a layer. When using Sequential models, prefer using an `Input(shape)` object as the first layer in the model instead.\n",
      "  super().__init__(activity_regularizer=activity_regularizer, **kwargs)\n"
     ]
    }
   ],
   "source": [
    "#Deeplearning using regression\n",
    "import numpy as np\n",
    "from tensorflow.keras.models import Sequential\n",
    "from tensorflow.keras.layers import Dense\n",
    "from tensorflow.keras.datasets import boston_housing\n",
    "from sklearn.preprocessing import StandardScaler\n",
    "from sklearn.model_selection import train_test_split\n",
    "from sklearn.metrics import mean_squared_error\n",
    "\n",
    "# Load the Boston Housing dataset\n",
    "(X_train, y_train), (X_test, y_test) = boston_housing.load_data()\n",
    "\n",
    "#Load the boston dataset\n",
    "(x_train,y_train),(x_test,y_test)=boston_housing.load_data()\n",
    "\n",
    "\n",
    "#splitin the data into training and validation sets\n",
    "x_train,x_val,y_train,y_val=train_test_split(x_train,y_train,test_size=0.2,random_state=42)\n",
    "\n",
    "#feature scaling using standardscalar\n",
    "scaler=StandardScaler()\n",
    "x_train=scaler.fit_transform(x_train)\n",
    "x_val=scaler.transform(x_val)\n",
    "x_test=scaler.transform(x_test)\n",
    "\n",
    "#define deeplearning model\n",
    "model=Sequential()\n",
    "model.add(Dense(64,activation='relu',input_shape=(x_train.shape[1],)))\n",
    "model.add(Dense(64,activation='relu'))\n",
    "model.add(Dense(1))\n",
    "\n",
    "\n",
    "\n"
   ]
  },
  {
   "cell_type": "code",
   "execution_count": 3,
   "id": "3cae0091-9704-409c-bd4e-7cf462f1efc5",
   "metadata": {},
   "outputs": [
    {
     "name": "stdout",
     "output_type": "stream",
     "text": [
      "\u001b[1m4/4\u001b[0m \u001b[32m━━━━━━━━━━━━━━━━━━━━\u001b[0m\u001b[37m\u001b[0m \u001b[1m0s\u001b[0m 20ms/step - loss: 15.2706 - mae: 2.5666\n",
      "Test data-Mean squared error:22.26\n",
      "Testdata- MAE:2.83\n"
     ]
    }
   ],
   "source": [
    "#compile the model\n",
    "model.compile(optimizer='adam',loss='mse',metrics=['mae'])\n",
    "\n",
    "#Train the model\n",
    "epochs=100\n",
    "batch_size=32\n",
    "history=model.fit(x_train,y_train,epochs=epochs,batch_size=batch_size,validation_data=(x_val,y_val),verbose=0)\n",
    "\n",
    "#Evaluate the model on the test set\n",
    "loss,mae=model.evaluate(x_test,y_test)\n",
    "print(f\"Test data-Mean squared error:{loss:.2f}\")\n",
    "print(f\"Testdata- MAE:{mae:.2f}\")"
   ]
  },
  {
   "cell_type": "code",
   "execution_count": 5,
   "id": "45525c29-13ea-47e1-bd19-49eb0a14dd10",
   "metadata": {},
   "outputs": [
    {
     "name": "stdout",
     "output_type": "stream",
     "text": [
      "\u001b[1m4/4\u001b[0m \u001b[32m━━━━━━━━━━━━━━━━━━━━\u001b[0m\u001b[37m\u001b[0m \u001b[1m0s\u001b[0m 38ms/step\n",
      "Actual:7.20,Predicted:8.26\n",
      "Actual:18.80,Predicted:18.26\n",
      "Actual:19.00,Predicted:21.33\n",
      "Actual:27.00,Predicted:32.32\n",
      "Actual:22.20,Predicted:25.51\n",
      "Actual:24.50,Predicted:19.12\n",
      "Actual:31.20,Predicted:26.51\n",
      "Actual:22.90,Predicted:21.50\n",
      "Actual:20.50,Predicted:19.31\n",
      "Actual:23.20,Predicted:22.80\n"
     ]
    }
   ],
   "source": [
    "predictions=model.predict(x_test)\n",
    "\n",
    "for i in range(10):\n",
    "    print(f\"Actual:{y_test[i]:.2f},Predicted:{predictions[i][0]:.2f}\")"
   ]
  },
  {
   "cell_type": "code",
   "execution_count": null,
   "id": "9ce47a01-4f23-4c78-9ac4-2bd2b2e23305",
   "metadata": {},
   "outputs": [],
   "source": []
  }
 ],
 "metadata": {
  "kernelspec": {
   "display_name": "Python [conda env:base] *",
   "language": "python",
   "name": "conda-base-py"
  },
  "language_info": {
   "codemirror_mode": {
    "name": "ipython",
    "version": 3
   },
   "file_extension": ".py",
   "mimetype": "text/x-python",
   "name": "python",
   "nbconvert_exporter": "python",
   "pygments_lexer": "ipython3",
   "version": "3.12.7"
  }
 },
 "nbformat": 4,
 "nbformat_minor": 5
}
