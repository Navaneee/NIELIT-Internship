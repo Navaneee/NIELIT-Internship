{
 "cells": [
  {
   "cell_type": "code",
   "execution_count": 1,
   "id": "c4fe0689-f318-4531-9970-041e5f57a42a",
   "metadata": {},
   "outputs": [],
   "source": [
    "import pandas as pd"
   ]
  },
  {
   "cell_type": "code",
   "execution_count": 5,
   "id": "5f1ce1fd-5c1f-4186-acc0-6f178c8faa16",
   "metadata": {},
   "outputs": [],
   "source": [
    "from pandas import Series as s"
   ]
  },
  {
   "cell_type": "code",
   "execution_count": 9,
   "id": "4f53c0cf-f0c5-4efe-986f-8315380eb2d6",
   "metadata": {},
   "outputs": [
    {
     "name": "stderr",
     "output_type": "stream",
     "text": [
      "IOPub data rate exceeded.\n",
      "The Jupyter server will temporarily stop sending output\n",
      "to the client in order to avoid crashing it.\n",
      "To change this limit, set the config variable\n",
      "`--ServerApp.iopub_data_rate_limit`.\n",
      "\n",
      "Current values:\n",
      "ServerApp.iopub_data_rate_limit=1000000.0 (bytes/sec)\n",
      "ServerApp.rate_limit_window=3.0 (secs)\n",
      "\n"
     ]
    }
   ],
   "source": [
    "help(pd)"
   ]
  },
  {
   "cell_type": "code",
   "execution_count": 13,
   "id": "3fcdc8c8-3c45-4c87-91fb-a3165ad0b9cc",
   "metadata": {},
   "outputs": [],
   "source": [
    "l=[1,2,3,4]"
   ]
  },
  {
   "cell_type": "code",
   "execution_count": 15,
   "id": "d7f90b7c-0f1f-4885-8f18-40b0480c77d4",
   "metadata": {},
   "outputs": [
    {
     "data": {
      "text/plain": [
       "0    1\n",
       "1    2\n",
       "2    3\n",
       "3    4\n",
       "dtype: int64"
      ]
     },
     "execution_count": 15,
     "metadata": {},
     "output_type": "execute_result"
    }
   ],
   "source": [
    "a=s(l)\n",
    "a"
   ]
  },
  {
   "cell_type": "code",
   "execution_count": 17,
   "id": "6860332c-8421-4e15-8dd8-8a075a1d9681",
   "metadata": {},
   "outputs": [
    {
     "data": {
      "text/plain": [
       "array([1, 2, 3, 4], dtype=int64)"
      ]
     },
     "execution_count": 17,
     "metadata": {},
     "output_type": "execute_result"
    }
   ],
   "source": [
    "a.values"
   ]
  },
  {
   "cell_type": "code",
   "execution_count": 19,
   "id": "f549c48d-3d27-4287-9c37-aa27bbc29795",
   "metadata": {},
   "outputs": [
    {
     "data": {
      "text/plain": [
       "RangeIndex(start=0, stop=4, step=1)"
      ]
     },
     "execution_count": 19,
     "metadata": {},
     "output_type": "execute_result"
    }
   ],
   "source": [
    "a.index"
   ]
  },
  {
   "cell_type": "code",
   "execution_count": 25,
   "id": "e74a78bc-30df-4813-ab0a-e1a33f1e91ae",
   "metadata": {},
   "outputs": [
    {
     "data": {
      "text/plain": [
       "a    1\n",
       "b    2\n",
       "c    3\n",
       "d    4\n",
       "dtype: int64"
      ]
     },
     "execution_count": 25,
     "metadata": {},
     "output_type": "execute_result"
    }
   ],
   "source": [
    "q=s(l,index=list('abcd'))\n",
    "q"
   ]
  },
  {
   "cell_type": "code",
   "execution_count": 27,
   "id": "2f31f1ed-4b22-4bcf-b735-5ca8d301ebb6",
   "metadata": {},
   "outputs": [
    {
     "name": "stderr",
     "output_type": "stream",
     "text": [
      "C:\\Users\\kjnav\\AppData\\Local\\Temp\\ipykernel_28544\\3941000428.py:1: FutureWarning: Series.__getitem__ treating keys as positions is deprecated. In a future version, integer keys will always be treated as labels (consistent with DataFrame behavior). To access a value by position, use `ser.iloc[pos]`\n",
      "  q[0]\n"
     ]
    },
    {
     "data": {
      "text/plain": [
       "1"
      ]
     },
     "execution_count": 27,
     "metadata": {},
     "output_type": "execute_result"
    }
   ],
   "source": [
    "q[0]"
   ]
  },
  {
   "cell_type": "code",
   "execution_count": 33,
   "id": "915ff2bc-ab93-4c18-bbf5-5929cec43ac4",
   "metadata": {},
   "outputs": [
    {
     "data": {
      "text/plain": [
       "4"
      ]
     },
     "execution_count": 33,
     "metadata": {},
     "output_type": "execute_result"
    }
   ],
   "source": [
    "q['d']"
   ]
  },
  {
   "cell_type": "code",
   "execution_count": 35,
   "id": "aec060a1-3229-4101-bc8f-06c95b750e9e",
   "metadata": {},
   "outputs": [
    {
     "data": {
      "text/plain": [
       "b    2\n",
       "c    3\n",
       "dtype: int64"
      ]
     },
     "execution_count": 35,
     "metadata": {},
     "output_type": "execute_result"
    }
   ],
   "source": [
    "q[1:3]"
   ]
  },
  {
   "cell_type": "code",
   "execution_count": 37,
   "id": "0d614866-c960-445c-8822-e79768745cd0",
   "metadata": {},
   "outputs": [
    {
     "data": {
      "text/plain": [
       "{'apple': 10, 'orange': 30, 'mango': 25, 'grapes': 50}"
      ]
     },
     "execution_count": 37,
     "metadata": {},
     "output_type": "execute_result"
    }
   ],
   "source": [
    "d=dict(apple=10,orange=30,mango=25,grapes=50)\n",
    "d"
   ]
  },
  {
   "cell_type": "code",
   "execution_count": 39,
   "id": "8280560e-6c28-4658-99b7-4e60eb8c5aa5",
   "metadata": {},
   "outputs": [],
   "source": [
    "sf1=s(d)"
   ]
  },
  {
   "cell_type": "code",
   "execution_count": 41,
   "id": "9388ce6d-442e-414d-9d58-aa7eb64b31a8",
   "metadata": {},
   "outputs": [
    {
     "data": {
      "text/plain": [
       "apple     10\n",
       "orange    30\n",
       "mango     25\n",
       "grapes    50\n",
       "dtype: int64"
      ]
     },
     "execution_count": 41,
     "metadata": {},
     "output_type": "execute_result"
    }
   ],
   "source": [
    "sf1"
   ]
  },
  {
   "cell_type": "code",
   "execution_count": 43,
   "id": "b3aedbe3-eea0-4c6c-9c64-63d67c58083a",
   "metadata": {},
   "outputs": [
    {
     "data": {
      "text/plain": [
       "10"
      ]
     },
     "execution_count": 43,
     "metadata": {},
     "output_type": "execute_result"
    }
   ],
   "source": [
    "sf1.apple"
   ]
  },
  {
   "cell_type": "code",
   "execution_count": 45,
   "id": "7e792c0a-7362-4c70-a4f6-c41426691cbb",
   "metadata": {},
   "outputs": [],
   "source": [
    "sf2=s(d,index='apple banana mango orange'.split())"
   ]
  },
  {
   "cell_type": "code",
   "execution_count": 47,
   "id": "53dd748d-2d1c-475a-ab94-a79e2e6ba21d",
   "metadata": {},
   "outputs": [
    {
     "data": {
      "text/plain": [
       "apple     10.0\n",
       "banana     NaN\n",
       "mango     25.0\n",
       "orange    30.0\n",
       "dtype: float64"
      ]
     },
     "execution_count": 47,
     "metadata": {},
     "output_type": "execute_result"
    }
   ],
   "source": [
    "sf2"
   ]
  },
  {
   "cell_type": "code",
   "execution_count": 49,
   "id": "09f39145-76fe-42ce-908e-1dc1def6f046",
   "metadata": {},
   "outputs": [
    {
     "data": {
      "text/plain": [
       "a    1\n",
       "b    2\n",
       "c    3\n",
       "d    4\n",
       "dtype: int64"
      ]
     },
     "execution_count": 49,
     "metadata": {},
     "output_type": "execute_result"
    }
   ],
   "source": [
    "q"
   ]
  },
  {
   "cell_type": "code",
   "execution_count": 51,
   "id": "d43a3a51-5b50-4a26-ab3c-616bae508dbd",
   "metadata": {},
   "outputs": [
    {
     "data": {
      "text/plain": [
       "array([[ 1,  2,  3,  4],\n",
       "       [ 5,  6,  7,  8],\n",
       "       [ 9, 10, 11, 12]])"
      ]
     },
     "execution_count": 51,
     "metadata": {},
     "output_type": "execute_result"
    }
   ],
   "source": [
    "import numpy as np\n",
    "q=np.arange(1,13).reshape(3,4)\n",
    "q"
   ]
  },
  {
   "cell_type": "code",
   "execution_count": 53,
   "id": "4fd3012b-50a7-4ebb-b46d-382dd3e6eee7",
   "metadata": {},
   "outputs": [
    {
     "data": {
      "text/html": [
       "<div>\n",
       "<style scoped>\n",
       "    .dataframe tbody tr th:only-of-type {\n",
       "        vertical-align: middle;\n",
       "    }\n",
       "\n",
       "    .dataframe tbody tr th {\n",
       "        vertical-align: top;\n",
       "    }\n",
       "\n",
       "    .dataframe thead th {\n",
       "        text-align: right;\n",
       "    }\n",
       "</style>\n",
       "<table border=\"1\" class=\"dataframe\">\n",
       "  <thead>\n",
       "    <tr style=\"text-align: right;\">\n",
       "      <th></th>\n",
       "      <th>0</th>\n",
       "      <th>1</th>\n",
       "      <th>2</th>\n",
       "      <th>3</th>\n",
       "    </tr>\n",
       "  </thead>\n",
       "  <tbody>\n",
       "    <tr>\n",
       "      <th>0</th>\n",
       "      <td>1</td>\n",
       "      <td>2</td>\n",
       "      <td>3</td>\n",
       "      <td>4</td>\n",
       "    </tr>\n",
       "    <tr>\n",
       "      <th>1</th>\n",
       "      <td>5</td>\n",
       "      <td>6</td>\n",
       "      <td>7</td>\n",
       "      <td>8</td>\n",
       "    </tr>\n",
       "    <tr>\n",
       "      <th>2</th>\n",
       "      <td>9</td>\n",
       "      <td>10</td>\n",
       "      <td>11</td>\n",
       "      <td>12</td>\n",
       "    </tr>\n",
       "  </tbody>\n",
       "</table>\n",
       "</div>"
      ],
      "text/plain": [
       "   0   1   2   3\n",
       "0  1   2   3   4\n",
       "1  5   6   7   8\n",
       "2  9  10  11  12"
      ]
     },
     "execution_count": 53,
     "metadata": {},
     "output_type": "execute_result"
    }
   ],
   "source": [
    "a=pd.DataFrame(q)\n",
    "a"
   ]
  },
  {
   "cell_type": "code",
   "execution_count": 117,
   "id": "df36791b-7103-4bde-82e1-afd8c9c64c3b",
   "metadata": {},
   "outputs": [],
   "source": [
    "d= dict(c1=dict(r1=10,r2=20,r3=15),c2=dict(r1=11,r2=21,r3=15),c3=dict(r1=100,r2=200,r3=15),c4=dict(r1=12,r2=21,r3=15))\n"
   ]
  },
  {
   "cell_type": "code",
   "execution_count": 119,
   "id": "03f1449a-6a7c-4512-be02-08a360e29973",
   "metadata": {},
   "outputs": [
    {
     "data": {
      "text/html": [
       "<div>\n",
       "<style scoped>\n",
       "    .dataframe tbody tr th:only-of-type {\n",
       "        vertical-align: middle;\n",
       "    }\n",
       "\n",
       "    .dataframe tbody tr th {\n",
       "        vertical-align: top;\n",
       "    }\n",
       "\n",
       "    .dataframe thead th {\n",
       "        text-align: right;\n",
       "    }\n",
       "</style>\n",
       "<table border=\"1\" class=\"dataframe\">\n",
       "  <thead>\n",
       "    <tr style=\"text-align: right;\">\n",
       "      <th></th>\n",
       "      <th>c1</th>\n",
       "      <th>c2</th>\n",
       "      <th>c3</th>\n",
       "      <th>c4</th>\n",
       "    </tr>\n",
       "  </thead>\n",
       "  <tbody>\n",
       "    <tr>\n",
       "      <th>r1</th>\n",
       "      <td>10</td>\n",
       "      <td>11</td>\n",
       "      <td>100</td>\n",
       "      <td>12</td>\n",
       "    </tr>\n",
       "    <tr>\n",
       "      <th>r2</th>\n",
       "      <td>20</td>\n",
       "      <td>21</td>\n",
       "      <td>200</td>\n",
       "      <td>21</td>\n",
       "    </tr>\n",
       "    <tr>\n",
       "      <th>r3</th>\n",
       "      <td>15</td>\n",
       "      <td>15</td>\n",
       "      <td>15</td>\n",
       "      <td>15</td>\n",
       "    </tr>\n",
       "  </tbody>\n",
       "</table>\n",
       "</div>"
      ],
      "text/plain": [
       "    c1  c2   c3  c4\n",
       "r1  10  11  100  12\n",
       "r2  20  21  200  21\n",
       "r3  15  15   15  15"
      ]
     },
     "execution_count": 119,
     "metadata": {},
     "output_type": "execute_result"
    }
   ],
   "source": [
    "d=pd.DataFrame(d)\n",
    "d"
   ]
  },
  {
   "cell_type": "code",
   "execution_count": 103,
   "id": "68c1fcd6-73b1-4e27-82c1-5a8352d59ade",
   "metadata": {},
   "outputs": [
    {
     "data": {
      "text/plain": [
       "r1    10\n",
       "r2    20\n",
       "r3    15\n",
       "Name: c1, dtype: int64"
      ]
     },
     "execution_count": 103,
     "metadata": {},
     "output_type": "execute_result"
    }
   ],
   "source": [
    "d['c1']"
   ]
  },
  {
   "cell_type": "code",
   "execution_count": 111,
   "id": "64a74b01-b21f-4456-bddf-20033294300f",
   "metadata": {},
   "outputs": [
    {
     "name": "stdout",
     "output_type": "stream",
     "text": [
      "    c1  c2   c3\n",
      "r1  10  11  100\n",
      "r2  20  21  200\n",
      "r3  15  15   15\n",
      "r1    12\n",
      "r2    21\n",
      "r3    15\n",
      "Name: c4, dtype: int64\n"
     ]
    }
   ],
   "source": [
    "x=d.iloc[:3,:3]\n",
    "y=d.iloc[:,3]\n",
    "print(x)\n",
    "print(y)"
   ]
  },
  {
   "cell_type": "code",
   "execution_count": 123,
   "id": "f9c512bd-503c-4722-80be-00838b1d5eaa",
   "metadata": {},
   "outputs": [
    {
     "name": "stdout",
     "output_type": "stream",
     "text": [
      "    c1  c2   c3\n",
      "r1  10  11  100\n",
      "r2  20  21  200\n",
      "r3  15  15   15\n",
      "r1    12\n",
      "r2    21\n",
      "r3    15\n",
      "Name: c4, dtype: int64\n"
     ]
    }
   ],
   "source": [
    "x=d.loc[:,'c1':'c3']\n",
    "y=d.loc[:,'c4']\n",
    "print(x)\n",
    "print(y)"
   ]
  },
  {
   "cell_type": "code",
   "execution_count": 131,
   "id": "cc2fe212-bb46-49ad-9ae9-4cc4b10525c8",
   "metadata": {},
   "outputs": [
    {
     "data": {
      "text/html": [
       "<div>\n",
       "<style scoped>\n",
       "    .dataframe tbody tr th:only-of-type {\n",
       "        vertical-align: middle;\n",
       "    }\n",
       "\n",
       "    .dataframe tbody tr th {\n",
       "        vertical-align: top;\n",
       "    }\n",
       "\n",
       "    .dataframe thead th {\n",
       "        text-align: right;\n",
       "    }\n",
       "</style>\n",
       "<table border=\"1\" class=\"dataframe\">\n",
       "  <thead>\n",
       "    <tr style=\"text-align: right;\">\n",
       "      <th></th>\n",
       "      <th>c1</th>\n",
       "      <th>c2</th>\n",
       "      <th>c3</th>\n",
       "      <th>c4</th>\n",
       "    </tr>\n",
       "  </thead>\n",
       "  <tbody>\n",
       "  </tbody>\n",
       "</table>\n",
       "</div>"
      ],
      "text/plain": [
       "Empty DataFrame\n",
       "Columns: [c1, c2, c3, c4]\n",
       "Index: []"
      ]
     },
     "execution_count": 131,
     "metadata": {},
     "output_type": "execute_result"
    }
   ],
   "source": [
    "x=d['r2':'r2']['c1':'c2']\n",
    "x"
   ]
  },
  {
   "cell_type": "code",
   "execution_count": null,
   "id": "c2e780da-e9c9-4bdd-a34a-da3ebef1e018",
   "metadata": {},
   "outputs": [],
   "source": []
  },
  {
   "cell_type": "code",
   "execution_count": null,
   "id": "12209fa7-7f8b-45fe-bafb-ce4c5358e739",
   "metadata": {},
   "outputs": [],
   "source": []
  },
  {
   "cell_type": "code",
   "execution_count": null,
   "id": "38b0e6c5-83b0-44fb-8997-d8524343444f",
   "metadata": {},
   "outputs": [],
   "source": []
  },
  {
   "cell_type": "code",
   "execution_count": null,
   "id": "bd40aee2-772b-4d89-a28b-46aa99b9ecec",
   "metadata": {},
   "outputs": [],
   "source": []
  },
  {
   "cell_type": "code",
   "execution_count": null,
   "id": "c22ce8bd-edcc-4dd7-9105-5ff3d170313b",
   "metadata": {},
   "outputs": [],
   "source": []
  },
  {
   "cell_type": "code",
   "execution_count": null,
   "id": "a55e9d6f-ab29-4e4e-8cb3-1a6e0247337a",
   "metadata": {},
   "outputs": [],
   "source": []
  },
  {
   "cell_type": "code",
   "execution_count": null,
   "id": "9f20f2e5-1563-4228-8a70-404f4d19e985",
   "metadata": {},
   "outputs": [],
   "source": []
  },
  {
   "cell_type": "code",
   "execution_count": null,
   "id": "5e22dc5a-32c1-4a70-9a63-27f190d11d69",
   "metadata": {},
   "outputs": [],
   "source": []
  }
 ],
 "metadata": {
  "kernelspec": {
   "display_name": "Python [conda env:base] *",
   "language": "python",
   "name": "conda-base-py"
  },
  "language_info": {
   "codemirror_mode": {
    "name": "ipython",
    "version": 3
   },
   "file_extension": ".py",
   "mimetype": "text/x-python",
   "name": "python",
   "nbconvert_exporter": "python",
   "pygments_lexer": "ipython3",
   "version": "3.12.7"
  }
 },
 "nbformat": 4,
 "nbformat_minor": 5
}
