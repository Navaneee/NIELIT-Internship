{
 "cells": [
  {
   "cell_type": "markdown",
   "metadata": {
    "id": "I02X-tnzCxzL"
   },
   "source": [
    "**NLP1**"
   ]
  },
  {
   "cell_type": "code",
   "execution_count": 3,
   "metadata": {},
   "outputs": [
    {
     "name": "stdout",
     "output_type": "stream",
     "text": [
      "Collecting textblob\n",
      "  Downloading textblob-0.19.0-py3-none-any.whl.metadata (4.4 kB)\n",
      "Requirement already satisfied: nltk>=3.9 in c:\\users\\kjnav\\anaconda3\\lib\\site-packages (from textblob) (3.9.1)\n",
      "Requirement already satisfied: click in c:\\users\\kjnav\\anaconda3\\lib\\site-packages (from nltk>=3.9->textblob) (8.1.7)\n",
      "Requirement already satisfied: joblib in c:\\users\\kjnav\\anaconda3\\lib\\site-packages (from nltk>=3.9->textblob) (1.4.2)\n",
      "Requirement already satisfied: regex>=2021.8.3 in c:\\users\\kjnav\\anaconda3\\lib\\site-packages (from nltk>=3.9->textblob) (2024.9.11)\n",
      "Requirement already satisfied: tqdm in c:\\users\\kjnav\\anaconda3\\lib\\site-packages (from nltk>=3.9->textblob) (4.66.5)\n",
      "Requirement already satisfied: colorama in c:\\users\\kjnav\\anaconda3\\lib\\site-packages (from click->nltk>=3.9->textblob) (0.4.6)\n",
      "Downloading textblob-0.19.0-py3-none-any.whl (624 kB)\n",
      "   ---------------------------------------- 0.0/624.3 kB ? eta -:--:--\n",
      "   ---------------------------------------- 0.0/624.3 kB ? eta -:--:--\n",
      "   ---------------------------------------- 0.0/624.3 kB ? eta -:--:--\n",
      "   --------------------------------- ------ 524.3/624.3 kB 1.9 MB/s eta 0:00:01\n",
      "   ---------------------------------------- 624.3/624.3 kB 1.7 MB/s eta 0:00:00\n",
      "Installing collected packages: textblob\n",
      "Successfully installed textblob-0.19.0\n"
     ]
    }
   ],
   "source": [
    "!pip install textblob"
   ]
  },
  {
   "cell_type": "code",
   "execution_count": 5,
   "metadata": {
    "id": "zLY00pqo4eD6"
   },
   "outputs": [],
   "source": [
    "from textblob import TextBlob"
   ]
  },
  {
   "cell_type": "code",
   "execution_count": 7,
   "metadata": {
    "id": "cUGLkI2v-Vdv"
   },
   "outputs": [],
   "source": [
    "sentence='Forests have many trees,birds and animals.Forests are source of good air and water'"
   ]
  },
  {
   "cell_type": "code",
   "execution_count": 7,
   "metadata": {
    "id": "5Cx2tdz4-jcY"
   },
   "outputs": [],
   "source": [
    "tbSentence=TextBlob(sentence)"
   ]
  },
  {
   "cell_type": "code",
   "execution_count": 10,
   "metadata": {
    "colab": {
     "base_uri": "https://localhost:8080/"
    },
    "id": "JZRHZJJw-jY9",
    "outputId": "e88fd420-1791-4324-8112-c37c90700329"
   },
   "outputs": [
    {
     "name": "stderr",
     "output_type": "stream",
     "text": [
      "[nltk_data] Downloading package punkt to /root/nltk_data...\n",
      "[nltk_data]   Package punkt is already up-to-date!\n"
     ]
    },
    {
     "data": {
      "text/plain": [
       "True"
      ]
     },
     "execution_count": 10,
     "metadata": {},
     "output_type": "execute_result"
    }
   ],
   "source": [
    "import nltk\n",
    "nltk.download('punkt')"
   ]
  },
  {
   "cell_type": "code",
   "execution_count": 11,
   "metadata": {
    "colab": {
     "base_uri": "https://localhost:8080/"
    },
    "id": "lr2DsdCS-jW9",
    "outputId": "3421ec87-2321-4e22-b94b-d39574e35bea"
   },
   "outputs": [
    {
     "name": "stderr",
     "output_type": "stream",
     "text": [
      "[nltk_data] Downloading package punkt_tab to /root/nltk_data...\n",
      "[nltk_data]   Unzipping tokenizers/punkt_tab.zip.\n"
     ]
    }
   ],
   "source": [
    "nltk.download('punkt_tab')\n",
    "thewords=tbSentence.words"
   ]
  },
  {
   "cell_type": "code",
   "execution_count": 12,
   "metadata": {
    "colab": {
     "base_uri": "https://localhost:8080/"
    },
    "id": "bmoDhEey-jU7",
    "outputId": "c2a9928b-a484-4f16-e9bf-ca3828b7259d"
   },
   "outputs": [
    {
     "name": "stdout",
     "output_type": "stream",
     "text": [
      "['Forests', 'have', 'many', 'trees', 'birds', 'and', 'animals.Forests', 'are', 'source', 'of', 'good', 'air', 'and', 'water']\n"
     ]
    }
   ],
   "source": [
    "print(thewords)"
   ]
  },
  {
   "cell_type": "code",
   "execution_count": 14,
   "metadata": {
    "colab": {
     "base_uri": "https://localhost:8080/"
    },
    "id": "-5MeToci-jS6",
    "outputId": "21813061-2b8c-47e4-ffa5-653ae7755412"
   },
   "outputs": [
    {
     "name": "stdout",
     "output_type": "stream",
     "text": [
      "word Forests\n",
      "word have\n",
      "word many\n",
      "word trees\n",
      "word birds\n",
      "word and\n",
      "word animals.Forests\n",
      "word are\n",
      "word source\n",
      "word of\n",
      "word good\n",
      "word air\n",
      "word and\n",
      "word water\n"
     ]
    }
   ],
   "source": [
    "for word in thewords:\n",
    "  print(\"word \"+word)"
   ]
  },
  {
   "cell_type": "code",
   "execution_count": 17,
   "metadata": {
    "id": "4RVGJ8Wj-jQ7"
   },
   "outputs": [],
   "source": [
    "tbSentences=tbSentence.sentences"
   ]
  },
  {
   "cell_type": "code",
   "execution_count": 18,
   "metadata": {
    "colab": {
     "base_uri": "https://localhost:8080/"
    },
    "id": "oANnLtZC-jLs",
    "outputId": "9c33d8b1-4e1d-413f-c699-704c355ba980"
   },
   "outputs": [
    {
     "name": "stdout",
     "output_type": "stream",
     "text": [
      "[Sentence(\"Forests have many trees,birds and animals.Forests are source of good air and water\")]\n"
     ]
    }
   ],
   "source": [
    "print(tbSentences)"
   ]
  },
  {
   "cell_type": "code",
   "execution_count": 20,
   "metadata": {
    "colab": {
     "base_uri": "https://localhost:8080/"
    },
    "id": "F3hwkosKAnGB",
    "outputId": "52d50369-4871-4a93-8cb5-3607608c2ca2"
   },
   "outputs": [
    {
     "name": "stdout",
     "output_type": "stream",
     "text": [
      "Forests have many trees,birds and animals.Forests are source of good air and water\n"
     ]
    }
   ],
   "source": [
    "for sent in tbSentences:\n",
    "  print(sent)"
   ]
  },
  {
   "cell_type": "code",
   "execution_count": 24,
   "metadata": {
    "colab": {
     "base_uri": "https://localhost:8080/"
    },
    "id": "HdkyeCaIA1Yy",
    "outputId": "2717cb7e-08fc-4ede-aec3-d3752fa67b08"
   },
   "outputs": [
    {
     "name": "stdout",
     "output_type": "stream",
     "text": [
      "Sentence 1 Forests have many trees,birds and animals.Forests are source of good air and water\n"
     ]
    }
   ],
   "source": [
    "i=1\n",
    "for sent in tbSentences:\n",
    "  print(f\"Sentence {str(i)} {str(sent)}\")\n",
    "  i=i+1"
   ]
  },
  {
   "cell_type": "code",
   "execution_count": null,
   "metadata": {},
   "outputs": [],
   "source": [
    "from textblob import TextBlob\n",
    "sentence='Forests have many trees,birds and animals.Forests are source of good air and water'\n",
    "tbSentence=TextBlob(sentence)\n",
    "import nltk\n",
    "nltk.download('punkt')\n",
    "nltk.download('punkt_tab')\n",
    "thewords=tbSentence.words\n"
   ]
  },
  {
   "cell_type": "markdown",
   "metadata": {
    "id": "gvhRFKeGDE2n"
   },
   "source": [
    "**NLP2**"
   ]
  },
  {
   "cell_type": "code",
   "execution_count": 29,
   "metadata": {
    "colab": {
     "base_uri": "https://localhost:8080/"
    },
    "id": "N2TECYRmBYFo",
    "outputId": "6609e7ec-b071-4bcb-f488-41fa4968f958"
   },
   "outputs": [
    {
     "name": "stderr",
     "output_type": "stream",
     "text": [
      "[nltk_data] Downloading package brown to /root/nltk_data...\n",
      "[nltk_data]   Package brown is already up-to-date!\n",
      "[nltk_data] Downloading package punkt to /root/nltk_data...\n",
      "[nltk_data]   Package punkt is already up-to-date!\n",
      "[nltk_data] Downloading package punkt_tab to /root/nltk_data...\n",
      "[nltk_data]   Package punkt_tab is already up-to-date!\n"
     ]
    },
    {
     "data": {
      "text/plain": [
       "True"
      ]
     },
     "execution_count": 29,
     "metadata": {},
     "output_type": "execute_result"
    }
   ],
   "source": [
    "import nltk\n",
    "nltk.download('brown')\n",
    "nltk.download('punkt')\n",
    "nltk.download('punkt_tab')"
   ]
  },
  {
   "cell_type": "code",
   "execution_count": 30,
   "metadata": {
    "colab": {
     "base_uri": "https://localhost:8080/"
    },
    "id": "BWM1XYkRCp-R",
    "outputId": "a5cff86b-7b4b-48f6-9358-039841c84ae2"
   },
   "outputs": [
    {
     "name": "stdout",
     "output_type": "stream",
     "text": [
      "['forests', 'good air']\n"
     ]
    }
   ],
   "source": [
    "from textblob import TextBlob\n",
    "sentence='This is a beautiful flower'\n",
    "tbSentense=TextBlob(sentence)\n",
    "print(tbSentence.noun_phrases)"
   ]
  },
  {
   "cell_type": "markdown",
   "metadata": {
    "id": "qUyhh4utD6of"
   },
   "source": [
    "**NLP**"
   ]
  },
  {
   "cell_type": "code",
   "execution_count": 34,
   "metadata": {
    "colab": {
     "base_uri": "https://localhost:8080/"
    },
    "id": "C80GXwVRDYuG",
    "outputId": "fd4e2c2b-6599-47b7-9a1d-3e73e488d0df"
   },
   "outputs": [
    {
     "name": "stdout",
     "output_type": "stream",
     "text": [
      "books\n",
      "children\n",
      "knives\n"
     ]
    }
   ],
   "source": [
    "from textblob import Word\n",
    "aword=Word(\"book\")\n",
    "print(aword.pluralize())\n",
    "\n",
    "aword=Word(\"child\")\n",
    "print(aword.pluralize())\n",
    "\n",
    "aword=Word(\"knive\")\n",
    "print(aword.pluralize())"
   ]
  },
  {
   "cell_type": "code",
   "execution_count": 36,
   "metadata": {
    "colab": {
     "base_uri": "https://localhost:8080/"
    },
    "id": "BDrREPICEZVe",
    "outputId": "40ac4ec6-f9f8-483c-c8e4-ca157bc8ec8e"
   },
   "outputs": [
    {
     "name": "stdout",
     "output_type": "stream",
     "text": [
      "tree\n",
      "Book\n"
     ]
    }
   ],
   "source": [
    "from textblob import Word\n",
    "aword=Word(\"trees\")\n",
    "print(aword.singularize())\n",
    "\n",
    "aword=Word(\"Books\")\n",
    "print(aword.singularize())"
   ]
  },
  {
   "cell_type": "code",
   "execution_count": null,
   "metadata": {
    "id": "xRkTC5n0E8qe"
   },
   "outputs": [],
   "source": []
  },
  {
   "cell_type": "markdown",
   "metadata": {
    "id": "2C85s0D6FX3l"
   },
   "source": [
    "**NLP3**"
   ]
  },
  {
   "cell_type": "code",
   "execution_count": 40,
   "metadata": {
    "colab": {
     "base_uri": "https://localhost:8080/"
    },
    "id": "651ky8VpFcEo",
    "outputId": "2dae87dc-0a50-4afb-e94e-a3e3cb95ac0c"
   },
   "outputs": [
    {
     "name": "stderr",
     "output_type": "stream",
     "text": [
      "[nltk_data] Downloading package wordnet to /root/nltk_data...\n"
     ]
    },
    {
     "data": {
      "text/plain": [
       "True"
      ]
     },
     "execution_count": 40,
     "metadata": {},
     "output_type": "execute_result"
    }
   ],
   "source": [
    "import nltk\n",
    "nltk.download('wordnet')"
   ]
  },
  {
   "cell_type": "code",
   "execution_count": 46,
   "metadata": {
    "colab": {
     "base_uri": "https://localhost:8080/"
    },
    "id": "qRap_mQ5FcBB",
    "outputId": "0d8ecc6b-073c-477e-ec09-bdebffab0bea"
   },
   "outputs": [
    {
     "name": "stdout",
     "output_type": "stream",
     "text": [
      "went go\n"
     ]
    }
   ],
   "source": [
    "from textblob import Word\n",
    "aword=Word(\"went\")\n",
    "print(aword+\" \"+aword.lemmatize(\"v\"))"
   ]
  },
  {
   "cell_type": "code",
   "execution_count": 45,
   "metadata": {
    "colab": {
     "base_uri": "https://localhost:8080/"
    },
    "id": "21eg2LXoFb-9",
    "outputId": "0bc3c052-0ba3-4e43-809d-89f3bea05d38"
   },
   "outputs": [
    {
     "name": "stdout",
     "output_type": "stream",
     "text": [
      "came come\n"
     ]
    }
   ],
   "source": [
    "aword=Word(\"came\")\n",
    "print(aword+\" \"+aword.lemmatize(\"v\"))"
   ]
  },
  {
   "cell_type": "code",
   "execution_count": 47,
   "metadata": {
    "colab": {
     "base_uri": "https://localhost:8080/"
    },
    "id": "i7u0zaCcFb8y",
    "outputId": "e2b9550d-ce28-4b4c-ef2f-b36e3f90137f"
   },
   "outputs": [
    {
     "name": "stdout",
     "output_type": "stream",
     "text": [
      "trees tree\n"
     ]
    }
   ],
   "source": [
    "aword=Word(\"trees\")\n",
    "print(aword+\" \"+aword.lemmatize())"
   ]
  },
  {
   "cell_type": "code",
   "execution_count": null,
   "metadata": {
    "id": "_arjXiuPFb6U"
   },
   "outputs": [],
   "source": [
    "#from textblob import"
   ]
  },
  {
   "cell_type": "code",
   "execution_count": 51,
   "metadata": {
    "id": "T2XUfbTuFb4E"
   },
   "outputs": [],
   "source": [
    "para=\"Rains give us water and cool mclimate.Children are playing in the rain,Jack and John are splashing in rain\""
   ]
  },
  {
   "cell_type": "code",
   "execution_count": 55,
   "metadata": {
    "colab": {
     "base_uri": "https://localhost:8080/"
    },
    "id": "5UreavsJFb1U",
    "outputId": "12a9db9b-4493-4464-ed0e-ebb81f063880"
   },
   "outputs": [
    {
     "name": "stderr",
     "output_type": "stream",
     "text": [
      "[nltk_data] Downloading package punkt to /root/nltk_data...\n",
      "[nltk_data]   Package punkt is already up-to-date!\n",
      "[nltk_data] Downloading package averaged_perceptron_tagger to\n",
      "[nltk_data]     /root/nltk_data...\n",
      "[nltk_data]   Package averaged_perceptron_tagger is already up-to-\n",
      "[nltk_data]       date!\n",
      "[nltk_data] Downloading package averaged_perceptron_tagger_eng to\n",
      "[nltk_data]     /root/nltk_data...\n",
      "[nltk_data]   Unzipping taggers/averaged_perceptron_tagger_eng.zip.\n"
     ]
    },
    {
     "data": {
      "text/plain": [
       "True"
      ]
     },
     "execution_count": 55,
     "metadata": {},
     "output_type": "execute_result"
    }
   ],
   "source": [
    "import nltk\n",
    "nltk.download(\"punkt\")\n",
    "nltk.download('averaged_perceptron_tagger')\n",
    "nltk.download('averaged_perceptron_tagger_eng')"
   ]
  },
  {
   "cell_type": "code",
   "execution_count": 56,
   "metadata": {
    "id": "3JfBP0qpFby_"
   },
   "outputs": [],
   "source": [
    "tPara=TextBlob(para)\n",
    "taglist=tPara.tags"
   ]
  },
  {
   "cell_type": "code",
   "execution_count": 57,
   "metadata": {
    "colab": {
     "base_uri": "https://localhost:8080/"
    },
    "id": "WVBoPxy1Fage",
    "outputId": "8c8e7983-e6ef-43c8-eb09-f997ca7e8d0f"
   },
   "outputs": [
    {
     "name": "stdout",
     "output_type": "stream",
     "text": [
      "[('Rains', 'NNS'), ('give', 'VBP'), ('us', 'PRP'), ('water', 'NN'), ('and', 'CC'), ('cool', 'JJ'), ('mclimate.Children', 'NNS'), ('are', 'VBP'), ('playing', 'VBG'), ('in', 'IN'), ('the', 'DT'), ('rain', 'NN'), ('Jack', 'NNP'), ('and', 'CC'), ('John', 'NNP'), ('are', 'VBP'), ('splashing', 'VBG'), ('in', 'IN'), ('rain', 'NN')]\n"
     ]
    }
   ],
   "source": [
    "print(taglist)"
   ]
  },
  {
   "cell_type": "code",
   "execution_count": null,
   "metadata": {
    "id": "6Q-SV0R0IngN"
   },
   "outputs": [],
   "source": []
  }
 ],
 "metadata": {
  "colab": {
   "provenance": []
  },
  "kernelspec": {
   "display_name": "Python [conda env:base] *",
   "language": "python",
   "name": "conda-base-py"
  },
  "language_info": {
   "codemirror_mode": {
    "name": "ipython",
    "version": 3
   },
   "file_extension": ".py",
   "mimetype": "text/x-python",
   "name": "python",
   "nbconvert_exporter": "python",
   "pygments_lexer": "ipython3",
   "version": "3.12.7"
  }
 },
 "nbformat": 4,
 "nbformat_minor": 4
}
