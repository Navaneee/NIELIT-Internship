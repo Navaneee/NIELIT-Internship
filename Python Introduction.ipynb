{
 "cells": [
  {
   "cell_type": "code",
   "execution_count": 1,
   "id": "78d3882f-2105-459b-8e01-2b2319b4ffa0",
   "metadata": {},
   "outputs": [
    {
     "name": "stdout",
     "output_type": "stream",
     "text": [
      "Hello World\n"
     ]
    }
   ],
   "source": [
    "print(\"Hello World\")"
   ]
  },
  {
   "cell_type": "code",
   "execution_count": 7,
   "id": "69585474-6142-4f2f-b772-f9c7ebeb1513",
   "metadata": {},
   "outputs": [
    {
     "name": "stdin",
     "output_type": "stream",
     "text": [
      "Your Name:  navani\n"
     ]
    },
    {
     "name": "stdout",
     "output_type": "stream",
     "text": [
      "Hello navani\n"
     ]
    }
   ],
   "source": [
    "#Ask user name\n",
    "name=input(\"Your Name: \")\n",
    "#print user name\n",
    "print(\"Hello\",name)"
   ]
  },
  {
   "cell_type": "code",
   "execution_count": 18,
   "id": "5e22ae98-d62d-4720-8485-5b431d9b51be",
   "metadata": {},
   "outputs": [
    {
     "name": "stdin",
     "output_type": "stream",
     "text": [
      "Your name:  navani\n"
     ]
    },
    {
     "name": "stdout",
     "output_type": "stream",
     "text": [
      "Hello Navani\n"
     ]
    }
   ],
   "source": [
    "name=input(\"Your name: \").strip().title()\n",
    "name=name.strip().title()\n",
    "print(\"Hello\",name)"
   ]
  },
  {
   "cell_type": "code",
   "execution_count": 22,
   "id": "8dd8cb6f-9536-489a-a2cf-be38aab6417f",
   "metadata": {},
   "outputs": [
    {
     "name": "stdin",
     "output_type": "stream",
     "text": [
      "Your name:  nva\n"
     ]
    },
    {
     "name": "stdout",
     "output_type": "stream",
     "text": [
      "Hello Nva!!!\n"
     ]
    }
   ],
   "source": [
    "name=input(\"Your name: \").strip().title()\n",
    "print(f\"Hello {name}!!!\")"
   ]
  },
  {
   "cell_type": "code",
   "execution_count": 26,
   "id": "444a350e-d8d9-4d9f-ad5b-c823c267e9fc",
   "metadata": {},
   "outputs": [
    {
     "name": "stdin",
     "output_type": "stream",
     "text": [
      "ENter first number  5\n",
      "ENter second number  10\n"
     ]
    },
    {
     "name": "stdout",
     "output_type": "stream",
     "text": [
      "sum is: 15\n"
     ]
    }
   ],
   "source": [
    "#simple addition of numbers\n",
    "num1=int(input(\"ENter first number \"))\n",
    "num2=int(input(\"ENter second number \"))\n",
    "print(f\"sum is: {num1+num2}\")"
   ]
  },
  {
   "cell_type": "code",
   "execution_count": 30,
   "id": "0e64538a-64cb-4467-9204-f0577022366b",
   "metadata": {},
   "outputs": [
    {
     "name": "stdout",
     "output_type": "stream",
     "text": [
      "\"Hello World!!\"\n"
     ]
    }
   ],
   "source": [
    "print(\"\\\"Hello World!!\\\"\")\n",
    "#Escape sequence using backlash"
   ]
  },
  {
   "cell_type": "code",
   "execution_count": 48,
   "id": "401ef675-13ec-464b-bb33-b35ad2658ae8",
   "metadata": {},
   "outputs": [
    {
     "name": "stdout",
     "output_type": "stream",
     "text": [
      "Requirement already satisfied: cowsay in c:\\users\\kjnav\\appdata\\local\\programs\\python\\python313\\lib\\site-packages (6.1)\n"
     ]
    },
    {
     "name": "stderr",
     "output_type": "stream",
     "text": [
      "\n",
      "[notice] A new release of pip is available: 25.0.1 -> 25.1.1\n",
      "[notice] To update, run: python.exe -m pip install --upgrade pip\n"
     ]
    }
   ],
   "source": [
    "!pip install cowsay"
   ]
  },
  {
   "cell_type": "code",
   "execution_count": 54,
   "id": "b26f8e8a-1e1e-46d1-8464-4bf0ad6c0d86",
   "metadata": {},
   "outputs": [
    {
     "name": "stdout",
     "output_type": "stream",
     "text": [
      "Requirement already satisfied: pip in c:\\users\\kjnav\\appdata\\local\\programs\\python\\python313\\lib\\site-packages (25.0.1)\n",
      "Collecting pip\n",
      "  Downloading pip-25.1.1-py3-none-any.whl.metadata (3.6 kB)\n",
      "Downloading pip-25.1.1-py3-none-any.whl (1.8 MB)\n",
      "   ---------------------------------------- 0.0/1.8 MB ? eta -:--:--\n",
      "   ---------------------------------------- 0.0/1.8 MB ? eta -:--:--\n",
      "   ---------------------------------------- 0.0/1.8 MB ? eta -:--:--\n",
      "   ----- ---------------------------------- 0.3/1.8 MB ? eta -:--:--\n",
      "   ----------- ---------------------------- 0.5/1.8 MB 735.4 kB/s eta 0:00:02\n",
      "   ----------- ---------------------------- 0.5/1.8 MB 735.4 kB/s eta 0:00:02\n",
      "   ----------- ---------------------------- 0.5/1.8 MB 735.4 kB/s eta 0:00:02\n",
      "   ----------------- ---------------------- 0.8/1.8 MB 669.9 kB/s eta 0:00:02\n",
      "   ---------------------- ----------------- 1.0/1.8 MB 761.7 kB/s eta 0:00:02\n",
      "   ---------------------------- ----------- 1.3/1.8 MB 832.6 kB/s eta 0:00:01\n",
      "   ---------------------------- ----------- 1.3/1.8 MB 832.6 kB/s eta 0:00:01\n",
      "   ---------------------------------- ----- 1.6/1.8 MB 813.9 kB/s eta 0:00:01\n",
      "   ---------------------------------------- 1.8/1.8 MB 795.4 kB/s eta 0:00:00\n",
      "Installing collected packages: pip\n",
      "  Attempting uninstall: pip\n",
      "    Found existing installation: pip 25.0.1\n",
      "    Uninstalling pip-25.0.1:\n",
      "      Successfully uninstalled pip-25.0.1\n",
      "Successfully installed pip-25.1.1\n"
     ]
    }
   ],
   "source": [
    "!python.exe -m pip install --upgrade pip\n"
   ]
  },
  {
   "cell_type": "code",
   "execution_count": 58,
   "id": "47b385d9-631d-4105-9284-5497dd6684ae",
   "metadata": {},
   "outputs": [
    {
     "name": "stdout",
     "output_type": "stream",
     "text": [
      "Requirement already satisfied: cowsay in c:\\users\\kjnav\\appdata\\local\\programs\\python\\python313\\lib\\site-packages (6.1)\n"
     ]
    }
   ],
   "source": [
    "!pip install cowsay\n"
   ]
  },
  {
   "cell_type": "code",
   "execution_count": 1,
   "id": "d2003dbf-d49c-4644-8c41-2913abeba39f",
   "metadata": {},
   "outputs": [
    {
     "ename": "ModuleNotFoundError",
     "evalue": "No module named 'cowsay'",
     "output_type": "error",
     "traceback": [
      "\u001b[1;31m---------------------------------------------------------------------------\u001b[0m",
      "\u001b[1;31mModuleNotFoundError\u001b[0m                       Traceback (most recent call last)",
      "Cell \u001b[1;32mIn[1], line 1\u001b[0m\n\u001b[1;32m----> 1\u001b[0m \u001b[38;5;28;01mimport\u001b[39;00m \u001b[38;5;21;01mcowsay\u001b[39;00m\n",
      "\u001b[1;31mModuleNotFoundError\u001b[0m: No module named 'cowsay'"
     ]
    }
   ],
   "source": [
    "import cowsay"
   ]
  },
  {
   "cell_type": "markdown",
   "id": "42153058-9009-4d56-9e55-f788d76aa4d2",
   "metadata": {},
   "source": [
    "### Definition\n"
   ]
  },
  {
   "cell_type": "code",
   "execution_count": 15,
   "id": "e9da38b2-7d9f-46d8-9d26-8cb67ddeb2e5",
   "metadata": {},
   "outputs": [
    {
     "name": "stdin",
     "output_type": "stream",
     "text": [
      "Name Navani\n"
     ]
    },
    {
     "name": "stdout",
     "output_type": "stream",
     "text": [
      "Hello Navani\n"
     ]
    }
   ],
   "source": [
    "def hello(to):\n",
    "    print(\"Hello\",to)\n",
    "name=input(\"Name\")\n",
    "hello(name)"
   ]
  },
  {
   "cell_type": "code",
   "execution_count": 19,
   "id": "2dcdf997-05fc-442f-9e87-f4de864755b8",
   "metadata": {},
   "outputs": [
    {
     "name": "stdin",
     "output_type": "stream",
     "text": [
      "Name navani\n"
     ]
    },
    {
     "name": "stdout",
     "output_type": "stream",
     "text": [
      "Hello Everyone\n",
      "Hello navani\n"
     ]
    }
   ],
   "source": [
    "def hello(to=\"Everyone\"):\n",
    "    print(\"Hello\",to)\n",
    "name=input(\"Name\")\n",
    "hello()\n",
    "hello(name)"
   ]
  },
  {
   "cell_type": "markdown",
   "id": "c27a2780-3a23-4187-bbd7-f228873d3b41",
   "metadata": {},
   "source": [
    "### Conditionals"
   ]
  },
  {
   "cell_type": "code",
   "execution_count": 23,
   "id": "8226a528-b432-4419-b5b8-dd70a99a607a",
   "metadata": {},
   "outputs": [
    {
     "name": "stdin",
     "output_type": "stream",
     "text": [
      "Enter Value 1:  5\n",
      "Enter Value 2:  4\n"
     ]
    },
    {
     "name": "stdout",
     "output_type": "stream",
     "text": [
      "5 is greater than 4\n"
     ]
    }
   ],
   "source": [
    "x=int(input(\"Enter Value 1: \"))\n",
    "y=int(input(\"Enter Value 2: \"))\n",
    "if x<y:\n",
    "    print(f\"{x} is less than {y}\")\n",
    "elif x>y:\n",
    "    print(f\"{x} is greater than {y}\")\n",
    "else:\n",
    "    print(f\"{x} is equal to {y}\")\n"
   ]
  },
  {
   "cell_type": "code",
   "execution_count": 27,
   "id": "e7293859-c865-40fb-b63c-ac771414dc0f",
   "metadata": {},
   "outputs": [
    {
     "name": "stdin",
     "output_type": "stream",
     "text": [
      "Enter Value 1:  10\n",
      "Enter Value 2:  10\n"
     ]
    },
    {
     "name": "stdout",
     "output_type": "stream",
     "text": [
      "10 is equal to 10\n"
     ]
    }
   ],
   "source": [
    "x=int(input(\"Enter Value 1: \"))\n",
    "y=int(input(\"Enter Value 2: \"))\n",
    "if x<y or x>y:\n",
    "    print(f\"{x}is not equal {y}\")\n",
    "else:\n",
    "    print(f\"{x} is equal to {y}\")"
   ]
  },
  {
   "cell_type": "code",
   "execution_count": 33,
   "id": "4d67f9cb-45f7-47de-a062-047fa0483422",
   "metadata": {},
   "outputs": [
    {
     "name": "stdout",
     "output_type": "stream",
     "text": [
      "New value of x: 100, Type: <class 'int'>\n",
      "New value of x: String Variable, Type: <class 'str'>\n"
     ]
    }
   ],
   "source": [
    "x=100\n",
    "print(f\"New value of x: {x}, Type: {type(x)}\")\n",
    "x=\"String Variable\"\n",
    "print(f\"New value of x: {x}, Type: {type(x)}\")"
   ]
  },
  {
   "cell_type": "code",
   "execution_count": 35,
   "id": "9f807ad5-4f9d-40ce-8f09-8803dae4809e",
   "metadata": {},
   "outputs": [
    {
     "name": "stdout",
     "output_type": "stream",
     "text": [
      "Modified PI: 3.14\n"
     ]
    }
   ],
   "source": [
    "#constants in python don't exist\n",
    "PI=3.14159\n",
    "PI=3.14\n",
    "print(f\"Modified PI: {PI}\")"
   ]
  },
  {
   "cell_type": "code",
   "execution_count": 43,
   "id": "f633bce6-1682-4416-8ec4-bebd430a7b20",
   "metadata": {},
   "outputs": [
    {
     "name": "stdout",
     "output_type": "stream",
     "text": [
      "Memory address of a: 140727499238104\n",
      "Memory address of b: 140727499238744\n"
     ]
    }
   ],
   "source": [
    "a=10\n",
    "b=30\n",
    "print(f\"Memory address of a: {id(a)}\")\n",
    "print(f\"Memory address of b: {id(b)}\")"
   ]
  },
  {
   "cell_type": "markdown",
   "id": "f618b044-4ebb-41b5-b7c4-b9b6a44941c9",
   "metadata": {},
   "source": [
    "### Loops"
   ]
  },
  {
   "cell_type": "code",
   "execution_count": 46,
   "id": "fa7716f8-a85e-4b14-bd73-2e34f2bf4f5b",
   "metadata": {},
   "outputs": [
    {
     "name": "stdout",
     "output_type": "stream",
     "text": [
      "Meow\n",
      "Meow\n",
      "Meow\n"
     ]
    }
   ],
   "source": [
    "# while Loop\n",
    "i=3\n",
    "while i!=0:\n",
    "    print(\"Meow\")\n",
    "    i=i-1"
   ]
  },
  {
   "cell_type": "code",
   "execution_count": 50,
   "id": "70081daf-d8fd-4c4a-892e-908555fc15c6",
   "metadata": {},
   "outputs": [
    {
     "name": "stdout",
     "output_type": "stream",
     "text": [
      "Meow\n",
      "Meow\n",
      "Meow\n"
     ]
    }
   ],
   "source": [
    "for _ in range(3):\n",
    "    print(\"Meow\")"
   ]
  },
  {
   "cell_type": "code",
   "execution_count": 56,
   "id": "6178bb96-0b73-49a4-aa93-00918b8b8fc9",
   "metadata": {},
   "outputs": [
    {
     "name": "stdout",
     "output_type": "stream",
     "text": [
      "meow * \n",
      "meow * \n",
      "meow * \n",
      "\n"
     ]
    }
   ],
   "source": [
    "print(\"meow * \\n\"*3)"
   ]
  },
  {
   "cell_type": "code",
   "execution_count": 58,
   "id": "a6abffee-1cdf-483f-a3cf-be40b264d42a",
   "metadata": {},
   "outputs": [
    {
     "name": "stdin",
     "output_type": "stream",
     "text": [
      "How many times?  5\n"
     ]
    },
    {
     "name": "stdout",
     "output_type": "stream",
     "text": [
      "\n",
      "💀\n",
      "💀💀\n",
      "💀💀💀\n",
      "💀💀💀💀\n"
     ]
    }
   ],
   "source": [
    "n=int(input(\"How many times? \"))\n",
    "for i in range(n):\n",
    "    print(\"💀\"*i)"
   ]
  },
  {
   "cell_type": "code",
   "execution_count": 60,
   "id": "9b6b0adc-a529-402a-bb26-8a717b5b339c",
   "metadata": {},
   "outputs": [
    {
     "name": "stdout",
     "output_type": "stream",
     "text": [
      "H\n",
      "Hello\n",
      "hello python\n",
      "HELLO PYTHON\n",
      "Hello Python\n"
     ]
    }
   ],
   "source": [
    "text=\"Hello Python\"\n",
    "print(text[0])\n",
    "print(text[0:5])\n",
    "print(text.lower())\n",
    "print(text.upper())\n",
    "print(text.title())"
   ]
  },
  {
   "cell_type": "markdown",
   "id": "c2b8a22d-47bd-4444-b8eb-123ee123faf9",
   "metadata": {},
   "source": [
    "### String immutability"
   ]
  },
  {
   "cell_type": "code",
   "execution_count": 11,
   "id": "0df3561a-5216-40f4-baf9-6131d9903623",
   "metadata": {},
   "outputs": [],
   "source": [
    "#text[0]='h'\n"
   ]
  },
  {
   "cell_type": "code",
   "execution_count": 9,
   "id": "8cc06622-8829-4196-aa2b-2d8b49dd027b",
   "metadata": {},
   "outputs": [
    {
     "name": "stdin",
     "output_type": "stream",
     "text": [
      "Your birth year:  1999\n"
     ]
    },
    {
     "name": "stdout",
     "output_type": "stream",
     "text": [
      "Your age is 26\n"
     ]
    }
   ],
   "source": [
    "birth=int(input(\"Your birth year: \"))\n",
    "print(f\"Your age is {2025-birth}\")\n"
   ]
  },
  {
   "cell_type": "code",
   "execution_count": 23,
   "id": "a4205857-900b-4cf1-9e15-bb44a52ab7f9",
   "metadata": {},
   "outputs": [
    {
     "name": "stdin",
     "output_type": "stream",
     "text": [
      "\n",
      "Tell me something\n",
      "'quit' to end the program quit\n"
     ]
    },
    {
     "name": "stdout",
     "output_type": "stream",
     "text": [
      "quit\n"
     ]
    }
   ],
   "source": [
    "prompt=\"\\nTell me something\"\n",
    "prompt+=\"\\n'quit' to end the program\"\n",
    "mess=\"\"\n",
    "while mess!='quit':\n",
    "    mess=input(prompt)\n",
    "    print(mess)"
   ]
  },
  {
   "cell_type": "code",
   "execution_count": 31,
   "id": "973ccf5b-461b-412e-8fdf-9657f746c2f5",
   "metadata": {},
   "outputs": [
    {
     "name": "stdout",
     "output_type": "stream",
     "text": [
      "This 1 is in range\n",
      "This 3 is in range\n"
     ]
    }
   ],
   "source": [
    "for num in range(1,5,2):\n",
    "    print(f\"This {num} is in range\")"
   ]
  },
  {
   "cell_type": "markdown",
   "id": "22346d04-4382-486e-bfd1-5b2494c9799f",
   "metadata": {},
   "source": [
    "### Lists"
   ]
  },
  {
   "cell_type": "code",
   "execution_count": null,
   "id": "620bb71d-59d1-479a-8f06-b10a70712393",
   "metadata": {},
   "outputs": [],
   "source": [
    "values=[1,2,3,4,5]\n",
    "words=['apple','python']"
   ]
  },
  {
   "cell_type": "code",
   "execution_count": 34,
   "id": "2f912f3b-5b79-44b2-bf42-e116a25349ef",
   "metadata": {},
   "outputs": [
    {
     "name": "stdout",
     "output_type": "stream",
     "text": [
      "e\n",
      "o\n",
      "o\n"
     ]
    }
   ],
   "source": [
    "vowels=['a','e','i','o','u']\n",
    "word=\"Hello Python\"\n",
    "for char in word.lower():\n",
    "    if char in vowels:\n",
    "        print(char)"
   ]
  },
  {
   "cell_type": "code",
   "execution_count": 9,
   "id": "33164590-28f8-4aa9-aa1a-6f3d3ecffe97",
   "metadata": {},
   "outputs": [
    {
     "ename": "SyntaxError",
     "evalue": "unmatched ')' (4170149267.py, line 6)",
     "output_type": "error",
     "traceback": [
      "\u001b[1;36m  Cell \u001b[1;32mIn[9], line 6\u001b[1;36m\u001b[0m\n\u001b[1;33m    found.append(char)   )\u001b[0m\n\u001b[1;37m                         ^\u001b[0m\n\u001b[1;31mSyntaxError\u001b[0m\u001b[1;31m:\u001b[0m unmatched ')'\n"
     ]
    }
   ],
   "source": [
    "vowels=['a','e','i','o','u']\n",
    "found=[]\n",
    "word=\"Hello Python\"\n",
    "for char in word.lower():\n",
    "    if char in vowels and not in found:\n",
    "        found.append(char)"
   ]
  },
  {
   "cell_type": "code",
   "execution_count": 46,
   "id": "cedf66d1-1af9-49e2-a245-60c5ca918d4d",
   "metadata": {},
   "outputs": [
    {
     "name": "stdout",
     "output_type": "stream",
     "text": [
      "['e', 'o']\n",
      "e\n",
      "o\n"
     ]
    }
   ],
   "source": [
    "vowels=['a','e','i','o','u']\n",
    "found=[]\n",
    "word=\"Hello Python\"\n",
    "for char in word.lower():\n",
    "    if char in vowels:\n",
    "        if char not in found:\n",
    "            found.append(char)\n",
    "print(found)\n",
    "for vowel in found:\n",
    "    print(vowel)"
   ]
  },
  {
   "cell_type": "code",
   "execution_count": 55,
   "id": "76df9cb9-b9dd-4be1-87ae-fac67f41d86a",
   "metadata": {},
   "outputs": [
    {
     "data": {
      "text/plain": [
       "['e', 'i', 'o', 'u']"
      ]
     },
     "execution_count": 55,
     "metadata": {},
     "output_type": "execute_result"
    }
   ],
   "source": [
    "vowels=['a','e','i','o','u']\n",
    "vowels.remove('a')\n",
    "vowels"
   ]
  },
  {
   "cell_type": "code",
   "execution_count": 61,
   "id": "59488ece-81d5-43e8-aa97-34f84d7f0825",
   "metadata": {},
   "outputs": [
    {
     "data": {
      "text/plain": [
       "[1, 2, 3]"
      ]
     },
     "execution_count": 61,
     "metadata": {},
     "output_type": "execute_result"
    }
   ],
   "source": [
    "nums=[1,1,2,3]\n",
    "nums.remove(1)\n",
    "nums"
   ]
  },
  {
   "cell_type": "code",
   "execution_count": 63,
   "id": "f6885b25-b3fb-4197-b45d-713e18e20818",
   "metadata": {},
   "outputs": [
    {
     "data": {
      "text/plain": [
       "2"
      ]
     },
     "execution_count": 63,
     "metadata": {},
     "output_type": "execute_result"
    }
   ],
   "source": [
    "nums[1]"
   ]
  },
  {
   "cell_type": "code",
   "execution_count": 65,
   "id": "15821a39-8c73-4a03-91ec-60e72ef73bfb",
   "metadata": {},
   "outputs": [
    {
     "data": {
      "text/plain": [
       "2"
      ]
     },
     "execution_count": 65,
     "metadata": {},
     "output_type": "execute_result"
    }
   ],
   "source": [
    "nums.pop(1)"
   ]
  },
  {
   "cell_type": "code",
   "execution_count": 69,
   "id": "d230015b-f5b6-4150-aeec-0e04b4ce45ca",
   "metadata": {},
   "outputs": [
    {
     "data": {
      "text/plain": [
       "1"
      ]
     },
     "execution_count": 69,
     "metadata": {},
     "output_type": "execute_result"
    }
   ],
   "source": [
    "nums.pop(0)"
   ]
  },
  {
   "cell_type": "code",
   "execution_count": 71,
   "id": "fba6ccd6-2e81-4dc3-bb1e-a4de367164f8",
   "metadata": {},
   "outputs": [
    {
     "data": {
      "text/plain": [
       "[3]"
      ]
     },
     "execution_count": 71,
     "metadata": {},
     "output_type": "execute_result"
    }
   ],
   "source": [
    "nums"
   ]
  },
  {
   "cell_type": "code",
   "execution_count": 73,
   "id": "a1342d24-00e6-441a-9ede-c0e005687fef",
   "metadata": {},
   "outputs": [
    {
     "data": {
      "text/plain": [
       "[3, 5, 6]"
      ]
     },
     "execution_count": 73,
     "metadata": {},
     "output_type": "execute_result"
    }
   ],
   "source": [
    "nums.extend([5,6,])\n",
    "nums"
   ]
  },
  {
   "cell_type": "code",
   "execution_count": 79,
   "id": "ac5bb964-4a74-4684-b34a-a88d623720ef",
   "metadata": {},
   "outputs": [
    {
     "data": {
      "text/plain": [
       "[1, 1, 'python', 3, 5, 6]"
      ]
     },
     "execution_count": 79,
     "metadata": {},
     "output_type": "execute_result"
    }
   ],
   "source": [
    "nums.insert(2,'python')\n",
    "nums"
   ]
  },
  {
   "cell_type": "code",
   "execution_count": 85,
   "id": "91c22125-c315-43c5-b6ad-c4bb7cfc87f1",
   "metadata": {},
   "outputs": [
    {
     "ename": "SyntaxError",
     "evalue": "unterminated string literal (detected at line 1) (3807098814.py, line 1)",
     "output_type": "error",
     "traceback": [
      "\u001b[1;36m  Cell \u001b[1;32mIn[85], line 1\u001b[1;36m\u001b[0m\n\u001b[1;33m    string='Python is fun!\"\u001b[0m\n\u001b[1;37m           ^\u001b[0m\n\u001b[1;31mSyntaxError\u001b[0m\u001b[1;31m:\u001b[0m unterminated string literal (detected at line 1)\n"
     ]
    }
   ],
   "source": [
    "string='Python is fun!\"\n",
    "output=\"Py is on\""
   ]
  },
  {
   "cell_type": "code",
   "execution_count": 87,
   "id": "d5d81027-2c3e-4084-838f-d916f63b4d8a",
   "metadata": {},
   "outputs": [],
   "source": [
    "first=[1,2,3,4,5]\n",
    "second=first"
   ]
  },
  {
   "cell_type": "code",
   "execution_count": 89,
   "id": "cdb5468d-5b36-48bb-b4f1-865a74dd6d92",
   "metadata": {},
   "outputs": [
    {
     "data": {
      "text/plain": [
       "[1, 2, 3, 4, 5]"
      ]
     },
     "execution_count": 89,
     "metadata": {},
     "output_type": "execute_result"
    }
   ],
   "source": [
    "second"
   ]
  },
  {
   "cell_type": "code",
   "execution_count": 91,
   "id": "6bfd3bda-fc8c-408f-8474-9df43467fbc0",
   "metadata": {},
   "outputs": [
    {
     "data": {
      "text/plain": [
       "[1, 2, 3, 4, 5, 6]"
      ]
     },
     "execution_count": 91,
     "metadata": {},
     "output_type": "execute_result"
    }
   ],
   "source": [
    "second.append(6)\n",
    "second"
   ]
  },
  {
   "cell_type": "code",
   "execution_count": 93,
   "id": "e211505b-f05a-4d10-bd88-151d03be9926",
   "metadata": {},
   "outputs": [
    {
     "data": {
      "text/plain": [
       "[1, 2, 3, 4, 5, 6]"
      ]
     },
     "execution_count": 93,
     "metadata": {},
     "output_type": "execute_result"
    }
   ],
   "source": [
    "first"
   ]
  },
  {
   "cell_type": "code",
   "execution_count": 101,
   "id": "2ee2ac35-b403-4f05-8111-81e3969ad2fc",
   "metadata": {},
   "outputs": [
    {
     "data": {
      "text/plain": [
       "[1, 2, 3, 4, 5, 6]"
      ]
     },
     "execution_count": 101,
     "metadata": {},
     "output_type": "execute_result"
    }
   ],
   "source": [
    "third=second.copy()\n",
    "third"
   ]
  },
  {
   "cell_type": "code",
   "execution_count": 105,
   "id": "25170d20-5178-4995-af6a-de684ce71d07",
   "metadata": {},
   "outputs": [
    {
     "data": {
      "text/plain": [
       "[1, 2, 3, 4, 5, 6, 7, 7]"
      ]
     },
     "execution_count": 105,
     "metadata": {},
     "output_type": "execute_result"
    }
   ],
   "source": [
    "third.append(7)\n",
    "third"
   ]
  },
  {
   "cell_type": "code",
   "execution_count": 109,
   "id": "32a712d9-d79b-453a-98c7-938d9425bb37",
   "metadata": {},
   "outputs": [
    {
     "data": {
      "text/plain": [
       "4"
      ]
     },
     "execution_count": 109,
     "metadata": {},
     "output_type": "execute_result"
    }
   ],
   "source": [
    "second[-3]"
   ]
  },
  {
   "cell_type": "code",
   "execution_count": 117,
   "id": "181d7ab0-1afe-4243-b99e-f52dd1ece22d",
   "metadata": {},
   "outputs": [
    {
     "name": "stdout",
     "output_type": "stream",
     "text": [
      "a was found in 0 times\n",
      "e was found in 0 times\n",
      "i was found in 1 times\n",
      "o was found in 0 times\n",
      "u was found in 0 times\n"
     ]
    }
   ],
   "source": [
    "found={'a':0,'e':0,'i':1,'o':0,'u':0}\n",
    "for k,v in sorted(found.items()):\n",
    "    print(k,'was found in',v,'times')"
   ]
  },
  {
   "cell_type": "code",
   "execution_count": 119,
   "id": "6770edc4-e05b-45c0-8661-1e296500f2d8",
   "metadata": {},
   "outputs": [
    {
     "name": "stdin",
     "output_type": "stream",
     "text": [
      "Word navani\n"
     ]
    },
    {
     "name": "stdout",
     "output_type": "stream",
     "text": [
      "a was found in 2 times\n",
      "e was found in 0 times\n",
      "i was found in 1 times\n",
      "o was found in 0 times\n",
      "u was found in 0 times\n"
     ]
    }
   ],
   "source": [
    "vowels=['a','e','i','o','u']\n",
    "word=input(\"Word\")\n",
    "found={}\n",
    "found['a']=0\n",
    "found['e']=0\n",
    "found['i']=0\n",
    "found['o']=0\n",
    "found['u']=0\n",
    "for char in word:\n",
    "    if char in vowels:\n",
    "        found[char]+=1\n",
    "for k,v in sorted(found.items()):\n",
    "    print(k,'was found in',v,'times')\n",
    "        "
   ]
  },
  {
   "cell_type": "code",
   "execution_count": 2,
   "id": "0c56e152-c7c1-41fd-8bbc-abbc9276b3b3",
   "metadata": {},
   "outputs": [
    {
     "name": "stdout",
     "output_type": "stream",
     "text": [
      "py is  on\n"
     ]
    }
   ],
   "source": [
    "s='python is fun'\n",
    "print(f\"{s[0:2]} {s[7:10]} {s[4:6]}\")"
   ]
  },
  {
   "cell_type": "code",
   "execution_count": 6,
   "id": "c371273f-3ab0-44a6-8a88-a73faef90800",
   "metadata": {
    "scrolled": true
   },
   "outputs": [
    {
     "name": "stdout",
     "output_type": "stream",
     "text": [
      "['p', 'y', 't', 'h', 'o', 'n', ' ', 'i', 's', ' ', 'f', 'u', 'n']\n",
      "['p', 'y', 'h', 'o', 'n', ' ', 'i', 's', ' ', 'f', 'u', 'n']\n",
      "['p', 'y', 'o', 'n', ' ', 'i', 's', ' ', 'f', 'u', 'n']\n",
      "['p', 'y', 'o', 'n', ' ', 'i', 's', ' ', 'u', 'n']\n",
      "['p', 'y', 'o', 'n', ' ', 'i', 's', ' ', 'n']\n",
      "['p', 'y', 'o', 'n', ' ', 'i', 's', ' ']\n",
      "['p', 'y', ' ']\n",
      "py is on\n"
     ]
    }
   ],
   "source": [
    "s='python is fun'\n",
    "s=list(s)\n",
    "print(s)\n",
    "s.remove('t')\n",
    "print(s)\n",
    "s.remove('h')\n",
    "print(s)\n",
    "s.remove('f')\n",
    "print(s)\n",
    "s.remove('u')\n",
    "print(s)\n",
    "s.pop()\n",
    "print(s)\n",
    "list1=[]\n",
    "list1.append(s[0])\n",
    "list1.append(s[1])\n",
    "list1.append(s[4])\n",
    "print(list1)\n",
    "list1.append(s[5])\n",
    "list1.append(s[6])\n",
    "list1.append(s[7])\n",
    "list1.append(s[2])\n",
    "list1.append(s[3])\n",
    "list1\n",
    "word=\"\".join(list1)\n",
    "print(word)"
   ]
  },
  {
   "cell_type": "code",
   "execution_count": 4,
   "id": "7b8714a5-2a87-45c2-b4bd-9572948e6460",
   "metadata": {},
   "outputs": [
    {
     "name": "stdout",
     "output_type": "stream",
     "text": [
      "py is on\n"
     ]
    }
   ],
   "source": [
    "s='python is fun'\n",
    "s=list(s)\n",
    "s.remove('t')\n",
    "s.remove('h')\n",
    "s.remove('f')\n",
    "s.remove('u')\n",
    "s.pop()\n",
    "list1=[]\n",
    "list1.append(s[0])\n",
    "list1.append(s[1])\n",
    "list1.append(s[4])\n",
    "list1.append(s[5])\n",
    "list1.append(s[6])\n",
    "list1.append(s[7])\n",
    "list1.append(s[2])\n",
    "list1.append(s[3])\n",
    "word=\"\".join(list1)\n",
    "print(word)"
   ]
  },
  {
   "cell_type": "code",
   "execution_count": 55,
   "id": "d3b86fc6-1001-4fd6-8e46-74b051a3c25f",
   "metadata": {},
   "outputs": [
    {
     "name": "stdout",
     "output_type": "stream",
     "text": [
      "['p', 'y', 't', 'h', 'o', 'n', ' ', 'i', 's', ' ', 'f', 'u', 'n']\n",
      "['p', 'y', ' ', 'i', 's', ' ', 'n']\n",
      "['p', 'y', ' ', 'i', 's', ' ']\n"
     ]
    },
    {
     "data": {
      "text/plain": [
       "'py is on'"
      ]
     },
     "execution_count": 55,
     "metadata": {},
     "output_type": "execute_result"
    }
   ],
   "source": [
    "s='python is fun'\n",
    "s=list(s)\n",
    "print(s)\n",
    "list1=['t',  'h', 'f', 'u','o','n']\n",
    "for i in list1:\n",
    "    if  i in s:\n",
    "        s.remove(i)\n",
    "print(s)\n",
    "s.pop()\n",
    "print(s)\n",
    "s.append('o')\n",
    "s.append('n')\n",
    "s\n",
    "\"\".join(s)"
   ]
  },
  {
   "cell_type": "code",
   "execution_count": 1,
   "id": "b2ae5483-5def-4470-abfe-cacf0be10b51",
   "metadata": {},
   "outputs": [
    {
     "name": "stdout",
     "output_type": "stream",
     "text": [
      "['a', 'c', 'e']\n"
     ]
    }
   ],
   "source": [
    "list1=['a','b','c','d','e','f','g']\n",
    "print(list1[0:6:2])\n"
   ]
  },
  {
   "cell_type": "code",
   "execution_count": 3,
   "id": "6da14dae-4883-4125-b952-60b5a7d4d9d9",
   "metadata": {},
   "outputs": [],
   "source": [
    "import numpy as np\n",
    "q=np.arange(1,13).reshape(3,4)"
   ]
  },
  {
   "cell_type": "code",
   "execution_count": 5,
   "id": "60cf2174-0624-42c2-a247-a9658c8be4fe",
   "metadata": {},
   "outputs": [
    {
     "data": {
      "text/plain": [
       "array([[ 1,  2,  3,  4],\n",
       "       [ 5,  6,  7,  8],\n",
       "       [ 9, 10, 11, 12]])"
      ]
     },
     "execution_count": 5,
     "metadata": {},
     "output_type": "execute_result"
    }
   ],
   "source": [
    "q"
   ]
  },
  {
   "cell_type": "code",
   "execution_count": 7,
   "id": "eae9243d-9ed5-43f7-8e12-934b8cabf578",
   "metadata": {},
   "outputs": [
    {
     "ename": "NameError",
     "evalue": "name 'pd' is not defined",
     "output_type": "error",
     "traceback": [
      "\u001b[1;31m---------------------------------------------------------------------------\u001b[0m",
      "\u001b[1;31mNameError\u001b[0m                                 Traceback (most recent call last)",
      "Cell \u001b[1;32mIn[7], line 1\u001b[0m\n\u001b[1;32m----> 1\u001b[0m a\u001b[38;5;241m=\u001b[39mpd\u001b[38;5;241m.\u001b[39mDataFrame(q)\n\u001b[0;32m      2\u001b[0m a\n",
      "\u001b[1;31mNameError\u001b[0m: name 'pd' is not defined"
     ]
    }
   ],
   "source": [
    "a=pd.DataFrame(q)\n",
    "a"
   ]
  },
  {
   "cell_type": "code",
   "execution_count": null,
   "id": "daa73d41-b038-49cd-a6d3-a4cbe122ec6a",
   "metadata": {},
   "outputs": [],
   "source": []
  }
 ],
 "metadata": {
  "kernelspec": {
   "display_name": "Python [conda env:base] *",
   "language": "python",
   "name": "conda-base-py"
  },
  "language_info": {
   "codemirror_mode": {
    "name": "ipython",
    "version": 3
   },
   "file_extension": ".py",
   "mimetype": "text/x-python",
   "name": "python",
   "nbconvert_exporter": "python",
   "pygments_lexer": "ipython3",
   "version": "3.12.7"
  }
 },
 "nbformat": 4,
 "nbformat_minor": 5
}
