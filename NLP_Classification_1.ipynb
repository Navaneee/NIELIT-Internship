{
  "nbformat": 4,
  "nbformat_minor": 0,
  "metadata": {
    "colab": {
      "provenance": []
    },
    "kernelspec": {
      "name": "python3",
      "display_name": "Python 3"
    },
    "language_info": {
      "name": "python"
    }
  },
  "cells": [
    {
      "cell_type": "code",
      "execution_count": 4,
      "metadata": {
        "id": "-0ExbsqQR9wn"
      },
      "outputs": [],
      "source": [
        "from textblob.classifiers import NaiveBayesClassifier\n"
      ]
    },
    {
      "cell_type": "code",
      "source": [
        "import nltk\n",
        "nltk.download('punkt_tab')"
      ],
      "metadata": {
        "colab": {
          "base_uri": "https://localhost:8080/"
        },
        "id": "xUITUTb-YKry",
        "outputId": "ac4faab9-eeeb-4166-907a-c4a38498c7c3"
      },
      "execution_count": 6,
      "outputs": [
        {
          "output_type": "stream",
          "name": "stderr",
          "text": [
            "[nltk_data] Downloading package punkt_tab to /root/nltk_data...\n",
            "[nltk_data]   Unzipping tokenizers/punkt_tab.zip.\n"
          ]
        },
        {
          "output_type": "execute_result",
          "data": {
            "text/plain": [
              "True"
            ]
          },
          "metadata": {},
          "execution_count": 6
        }
      ]
    },
    {
      "cell_type": "code",
      "source": [
        "traindata=[('This is a good book','pos'),('That was a bad day','neg'),(\"That was a great party\",'pos'),('This is a beautifil dress','pos'),('You have a bad tempor','ng')]"
      ],
      "metadata": {
        "id": "J1mxN8r6XO-z"
      },
      "execution_count": 7,
      "outputs": []
    },
    {
      "cell_type": "code",
      "source": [
        "cl=NaiveBayesClassifier(traindata)"
      ],
      "metadata": {
        "id": "k2WKRyQkXrLh"
      },
      "execution_count": 8,
      "outputs": []
    },
    {
      "cell_type": "code",
      "source": [],
      "metadata": {
        "id": "3V1DiS_wZ0Np"
      },
      "execution_count": null,
      "outputs": []
    },
    {
      "cell_type": "markdown",
      "source": [],
      "metadata": {
        "id": "UDoSJopQZ07L"
      }
    },
    {
      "cell_type": "code",
      "source": [
        "print(cl.classify('It is a nice story'))"
      ],
      "metadata": {
        "colab": {
          "base_uri": "https://localhost:8080/"
        },
        "id": "SL536lKzXzuL",
        "outputId": "1e5b55a1-0a87-4638-ac92-99af38bad457"
      },
      "execution_count": 9,
      "outputs": [
        {
          "output_type": "stream",
          "name": "stdout",
          "text": [
            "pos\n"
          ]
        }
      ]
    },
    {
      "cell_type": "markdown",
      "source": [
        "**Classification 2**"
      ],
      "metadata": {
        "id": "LalNZuVUZ19_"
      }
    },
    {
      "cell_type": "code",
      "source": [
        "from textblob.classifiers import NaiveBayesClassifier\n",
        "import nltk\n",
        "nltk.download('punkt_tab')"
      ],
      "metadata": {
        "colab": {
          "base_uri": "https://localhost:8080/"
        },
        "id": "cIRUXxYHX5w7",
        "outputId": "6aaefb8b-f848-4f2a-bce2-c436c49cb608"
      },
      "execution_count": 10,
      "outputs": [
        {
          "output_type": "stream",
          "name": "stderr",
          "text": [
            "[nltk_data] Downloading package punkt_tab to /root/nltk_data...\n",
            "[nltk_data]   Package punkt_tab is already up-to-date!\n"
          ]
        },
        {
          "output_type": "execute_result",
          "data": {
            "text/plain": [
              "True"
            ]
          },
          "metadata": {},
          "execution_count": 10
        }
      ]
    },
    {
      "cell_type": "code",
      "source": [],
      "metadata": {
        "id": "uK4QovqsdrFE"
      },
      "execution_count": null,
      "outputs": []
    },
    {
      "cell_type": "markdown",
      "source": [],
      "metadata": {
        "id": "acp6frKpdqhZ"
      }
    },
    {
      "cell_type": "code",
      "source": [
        "from textblob.classifiers import NaiveBayesClassifier\n",
        "import nltk\n",
        "nltk.download('punkt_tab')\n",
        "\n",
        "\n",
        "\n",
        "record=file.readline().strip()\n",
        "trainData=[]\n",
        "while record:\n",
        "  #print record\n",
        "  data=record.split(\",\")\n",
        "  #print(data[0])\n",
        "  #print(data[1])\n",
        "  record=file.readline().strip()\n",
        "  category=data[0]\n",
        "  content=data[1]\n",
        "  tuple=content,category\n",
        "  trainData.append(tuple)\n",
        "print(\"Training...\")\n",
        "classifier=NaiveBayesClassifier(trainData)\n",
        "print(classifier.classify(\"read books\"))\n",
        "file.close()"
      ],
      "metadata": {
        "colab": {
          "base_uri": "https://localhost:8080/",
          "height": 245
        },
        "id": "254zNUJpaVBZ",
        "outputId": "cdf85edc-c010-44c6-a9ee-327219361d21"
      },
      "execution_count": 19,
      "outputs": [
        {
          "output_type": "stream",
          "name": "stderr",
          "text": [
            "[nltk_data] Downloading package punkt_tab to /root/nltk_data...\n",
            "[nltk_data]   Package punkt_tab is already up-to-date!\n"
          ]
        },
        {
          "output_type": "error",
          "ename": "ValueError",
          "evalue": "I/O operation on closed file.",
          "traceback": [
            "\u001b[0;31m---------------------------------------------------------------------------\u001b[0m",
            "\u001b[0;31mValueError\u001b[0m                                Traceback (most recent call last)",
            "\u001b[0;32m<ipython-input-19-acb3df469af9>\u001b[0m in \u001b[0;36m<cell line: 0>\u001b[0;34m()\u001b[0m\n\u001b[1;32m      5\u001b[0m \u001b[0;34m\u001b[0m\u001b[0m\n\u001b[1;32m      6\u001b[0m \u001b[0;34m\u001b[0m\u001b[0m\n\u001b[0;32m----> 7\u001b[0;31m \u001b[0mrecord\u001b[0m\u001b[0;34m=\u001b[0m\u001b[0mfile\u001b[0m\u001b[0;34m.\u001b[0m\u001b[0mreadline\u001b[0m\u001b[0;34m(\u001b[0m\u001b[0;34m)\u001b[0m\u001b[0;34m.\u001b[0m\u001b[0mstrip\u001b[0m\u001b[0;34m(\u001b[0m\u001b[0;34m)\u001b[0m\u001b[0;34m\u001b[0m\u001b[0;34m\u001b[0m\u001b[0m\n\u001b[0m\u001b[1;32m      8\u001b[0m \u001b[0mtrainData\u001b[0m\u001b[0;34m=\u001b[0m\u001b[0;34m[\u001b[0m\u001b[0;34m]\u001b[0m\u001b[0;34m\u001b[0m\u001b[0;34m\u001b[0m\u001b[0m\n\u001b[1;32m      9\u001b[0m \u001b[0;32mwhile\u001b[0m \u001b[0mrecord\u001b[0m\u001b[0;34m:\u001b[0m\u001b[0;34m\u001b[0m\u001b[0;34m\u001b[0m\u001b[0m\n",
            "\u001b[0;31mValueError\u001b[0m: I/O operation on closed file."
          ]
        }
      ]
    },
    {
      "cell_type": "code",
      "source": [
        "# %%\n",
        "from textblob.classifiers import NaiveBayesClassifier\n",
        "import nltk\n",
        "nltk.download('punkt_tab')\n",
        "\n",
        "# %%\n",
        "# Ensure the file path is correct for your environment.\n",
        "# If train.txt is in the same directory as the notebook, just use \"train.txt\"\n",
        "# If it's in the root directory of the filesystem, /train.txt might be correct.\n",
        "# Consider using pathlib for better path handling.\n",
        "try:\n",
        "    file=open(\"/train.txt\",'r')\n",
        "\n",
        "    trainData=[]\n",
        "    # Read the first line\n",
        "    record=file.readline().strip()\n",
        "\n",
        "    # Loop while the record is not empty\n",
        "    while record:\n",
        "      data=record.split(\",\", 1) # Split only on the first comma\n",
        "      if len(data) == 2: # Ensure we have both category and content\n",
        "          category=data[0].strip() # Strip whitespace from category\n",
        "          content=data[1].strip()  # Strip whitespace from content\n",
        "          trainData.append((content, category)) # Append as a tuple (content, category)\n",
        "      else:\n",
        "          print(f\"Skipping malformed line: {record}\") # Print a message for lines that don't split into 2 parts\n",
        "\n",
        "      # Read the next line\n",
        "      record=file.readline().strip()\n",
        "\n",
        "    file.close() # Close the file after reading\n",
        "\n",
        "    if not trainData:\n",
        "        print(\"Error: No data loaded from train.txt. Check file content and path.\")\n",
        "    else:\n",
        "        print(f\"Loaded {len(trainData)} training examples.\")\n",
        "        print(\"Training...\")\n",
        "        # Initialize the classifier only if trainData is not empty\n",
        "        classifier=NaiveBayesClassifier(trainData)\n",
        "        print(\"Training complete.\")\n",
        "        print(classifier.classify(\"read books\"))\n",
        "\n",
        "except FileNotFoundError:\n",
        "    print(\"Error: train.txt not found. Please ensure the file exists at the specified path.\")\n",
        "except Exception as e:\n",
        "    print(f\"An error occurred: {e}\")\n",
        "\n",
        "# %%"
      ],
      "metadata": {
        "colab": {
          "base_uri": "https://localhost:8080/"
        },
        "id": "_gmc8qwebNhn",
        "outputId": "2de5bb61-5a9c-4460-c734-a231d2017fc2"
      },
      "execution_count": 18,
      "outputs": [
        {
          "output_type": "stream",
          "name": "stdout",
          "text": [
            "Loaded 23 training examples.\n",
            "Training...\n",
            "Training complete.\n",
            "kindle\n"
          ]
        },
        {
          "output_type": "stream",
          "name": "stderr",
          "text": [
            "[nltk_data] Downloading package punkt_tab to /root/nltk_data...\n",
            "[nltk_data]   Package punkt_tab is already up-to-date!\n"
          ]
        }
      ]
    },
    {
      "cell_type": "code",
      "source": [],
      "metadata": {
        "id": "4R_8mOqYciV6"
      },
      "execution_count": null,
      "outputs": []
    }
  ]
}