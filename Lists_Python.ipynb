{
 "cells": [
  {
   "cell_type": "markdown",
   "id": "ca1ccb09",
   "metadata": {},
   "source": [
    "When a list is created where the objects are assigned to a new list directly in\n",
    "your code (as shown above), Python programmers refer to this as a literal\n",
    "list, in that the list is created and populated in one go.\n",
    "The other way to create and populate a list is to “grow” the list in code,\n",
    "appending objects to the list as the code executes."
   ]
  },
  {
   "cell_type": "code",
   "execution_count": 3,
   "id": "a10ac6df",
   "metadata": {},
   "outputs": [
    {
     "data": {
      "text/plain": [
       "[[1, 2, 3], ['a', 'b', 'c']]"
      ]
     },
     "execution_count": 3,
     "metadata": {},
     "output_type": "execute_result"
    }
   ],
   "source": [
    "prices = []\n",
    "values = [ 32.0, 21.0, 0.0, 8.6, 100.0, 45.3 ]\n",
    "words = [ 'hello', 'python' ]\n",
    "car_details = [ 'Toyota', 'engine1', 2.2, 60 ]\n",
    "combined = [ prices, values, words, car_details ]\n",
    "literal_lists = [[1,2,3], ['a','b','c']]\n",
    "literal_lists\n"
   ]
  },
  {
   "cell_type": "markdown",
   "id": "03b9e64b",
   "metadata": {},
   "source": [
    "we’ll cover the mechanism that allows you to grow (or\n",
    "shrink) a list while your program executes. After all, there are many situations\n",
    "where you don’t know ahead of time what data you need to store, nor how\n",
    "many objects you’re going to need. In this case, your code has to grow (or\n",
    "“generate”) the list as needed. "
   ]
  },
  {
   "cell_type": "code",
   "execution_count": null,
   "id": "8ba5bc4f",
   "metadata": {},
   "outputs": [
    {
     "name": "stdout",
     "output_type": "stream",
     "text": [
      "e\n",
      "e\n",
      "o\n",
      "o\n"
     ]
    }
   ],
   "source": [
    "vowels = ['a', 'e', 'i', 'o', 'u']\n",
    "word = \"Hello Python\"\n",
    "for letter in word.lower():\n",
    "    if letter in vowels:\n",
    "        print(letter)"
   ]
  },
  {
   "cell_type": "markdown",
   "id": "96791324",
   "metadata": {},
   "source": [
    "\"Growing a list at runtime\"\n",
    "\n",
    "\n",
    "Our current program displays each found vowel on screen, including any\n",
    "duplicates found. In order to list each unique vowel found (and avoid displaying\n",
    "duplicates), we need to remember any unique vowels that we find, before\n",
    "displaying them on screen. To do this, we need to use a second data structure."
   ]
  },
  {
   "cell_type": "code",
   "execution_count": 11,
   "id": "01cacd24",
   "metadata": {},
   "outputs": [
    {
     "data": {
      "text/plain": [
       "0"
      ]
     },
     "execution_count": 11,
     "metadata": {},
     "output_type": "execute_result"
    }
   ],
   "source": [
    "found = []\n",
    "len(found)\n"
   ]
  },
  {
   "cell_type": "code",
   "execution_count": 12,
   "id": "2548025b",
   "metadata": {},
   "outputs": [
    {
     "data": {
      "text/plain": [
       "['a']"
      ]
     },
     "execution_count": 12,
     "metadata": {},
     "output_type": "execute_result"
    }
   ],
   "source": [
    "found.append('a')\n",
    "found"
   ]
  },
  {
   "cell_type": "code",
   "execution_count": null,
   "id": "a95a01f7",
   "metadata": {},
   "outputs": [
    {
     "name": "stdout",
     "output_type": "stream",
     "text": [
      "e\n",
      "o\n"
     ]
    }
   ],
   "source": [
    "vowels = ['a', 'e', 'i', 'o', 'u']\n",
    "word = \"Hello Python\"\n",
    "found = []\n",
    "for letter in word.lower():\n",
    "    if letter in vowels:\n",
    "        if letter not in found:\n",
    "            found.append(letter)\n",
    "for vowel in found:\n",
    "    print(vowel)"
   ]
  },
  {
   "cell_type": "markdown",
   "id": "11b51a3f",
   "metadata": {},
   "source": [
    "let's make this code more generic"
   ]
  },
  {
   "cell_type": "code",
   "execution_count": 15,
   "id": "41a6b98e",
   "metadata": {},
   "outputs": [
    {
     "name": "stdout",
     "output_type": "stream",
     "text": [
      "i\n",
      "a\n"
     ]
    }
   ],
   "source": [
    "vowels = ['a', 'e', 'i', 'o', 'u']\n",
    "word = input(\"Provide a word to search for vowels: \")\n",
    "found = []\n",
    "for letter in word.lower():\n",
    "    if letter in vowels:\n",
    "        if letter not in found:\n",
    "            found.append(letter)\n",
    "for vowel in found:\n",
    "    print(vowel)"
   ]
  },
  {
   "cell_type": "markdown",
   "id": "9803981e",
   "metadata": {},
   "source": [
    "\"Removing objects from a list\"\n",
    "\n",
    "Lists in Python are just like arrays in other languages, and then some.\n",
    "\n",
    "\n",
    "The fact that lists can grow dynamically when more space is needed (thanks\n",
    "to the append method) is a huge productivity boon. Like a lot of other\n",
    "things in Python, the interpreter takes care of the details for you. If the list\n",
    "needs more memory, the interpreter dynamically allocates as much memory\n",
    "as needed. Likewise, when a list shrinks, the interpreter dynamically reclaims\n",
    "memory no longer needed by the list.\n",
    "\n",
    "\n",
    "we introduce four of the most useful methods: remove, pop, extend, and\n",
    "insert:"
   ]
  },
  {
   "cell_type": "code",
   "execution_count": 16,
   "id": "fff952e2",
   "metadata": {},
   "outputs": [
    {
     "data": {
      "text/plain": [
       "[1, 2, 3, 4]"
      ]
     },
     "execution_count": 16,
     "metadata": {},
     "output_type": "execute_result"
    }
   ],
   "source": [
    "nums = [1, 2, 3, 4]\n",
    "nums"
   ]
  },
  {
   "cell_type": "markdown",
   "id": "14e2bc6d",
   "metadata": {},
   "source": [
    "remove: takes an object’s value as its sole argument\n",
    "\n",
    "The remove method removes the first occurrence of a specified data value from a list. If\n",
    "the data value is found in the list, the object that contains it is removed from the list (and\n",
    "the list shrinks in size by one). If the data value is not in the list, the interpreter will raise an\n",
    "error"
   ]
  },
  {
   "cell_type": "code",
   "execution_count": 17,
   "id": "3c85ba68",
   "metadata": {},
   "outputs": [
    {
     "data": {
      "text/plain": [
       "[1, 2, 4]"
      ]
     },
     "execution_count": 17,
     "metadata": {},
     "output_type": "execute_result"
    }
   ],
   "source": [
    "nums.remove(3)\n",
    "nums"
   ]
  },
  {
   "cell_type": "markdown",
   "id": "c988df4b",
   "metadata": {},
   "source": [
    "pop: takes an optional index value as its argument\n",
    "\n",
    "\n",
    "The pop method removes and returns an object from an existing list based on the\n",
    "object’s index value. If you invoke pop without specifying an index value, the last\n",
    "object in the list is removed and returned. If you specify an index value, the object\n",
    "in that location is removed and returned. If a list is empty or you invoke pop with\n",
    "a nonexistent index value, the interpreter raises an error.\n",
    "\n",
    "\n",
    "Objects returned by pop can be assigned to a variable if you so wish, in which case\n",
    "they are retained. However, if the popped object is not assigned to a variable, its\n",
    "memory is reclaimed and the object disappears."
   ]
  },
  {
   "cell_type": "code",
   "execution_count": 18,
   "id": "dc7cbaf7",
   "metadata": {},
   "outputs": [
    {
     "data": {
      "text/plain": [
       "[1, 2]"
      ]
     },
     "execution_count": 18,
     "metadata": {},
     "output_type": "execute_result"
    }
   ],
   "source": [
    "nums.pop()\n",
    "nums"
   ]
  },
  {
   "cell_type": "code",
   "execution_count": 19,
   "id": "d16dd06c",
   "metadata": {},
   "outputs": [
    {
     "data": {
      "text/plain": [
       "1"
      ]
     },
     "execution_count": 19,
     "metadata": {},
     "output_type": "execute_result"
    }
   ],
   "source": [
    "nums.pop(0)"
   ]
  },
  {
   "cell_type": "code",
   "execution_count": 20,
   "id": "83355957",
   "metadata": {},
   "outputs": [
    {
     "data": {
      "text/plain": [
       "[2]"
      ]
     },
     "execution_count": 20,
     "metadata": {},
     "output_type": "execute_result"
    }
   ],
   "source": [
    "nums"
   ]
  },
  {
   "cell_type": "markdown",
   "id": "62aeabc1",
   "metadata": {},
   "source": [
    "extend: takes a list of objects as its sole argument\n",
    "\n",
    "\n",
    "The extend method takes a second list and adds each of its objects to an existing\n",
    "list. This method is very useful for combining two lists into one"
   ]
  },
  {
   "cell_type": "code",
   "execution_count": 28,
   "id": "7ab41df4",
   "metadata": {},
   "outputs": [
    {
     "data": {
      "text/plain": [
       "[2, 3, 4]"
      ]
     },
     "execution_count": 28,
     "metadata": {},
     "output_type": "execute_result"
    }
   ],
   "source": [
    "nums.extend([3, 4])\n",
    "nums"
   ]
  },
  {
   "cell_type": "markdown",
   "id": "f5f32bad",
   "metadata": {},
   "source": [
    "insert: takes an index value and an object as its arguments\n",
    "\n",
    "\n",
    "The insert method inserts an object into an existing list before a specified index\n",
    "value. This lets you insert the object at the start of an existing list or anywhere\n",
    "within the list. It is not possible to insert at the end of the list, as that’s what the\n",
    "append method does"
   ]
  },
  {
   "cell_type": "code",
   "execution_count": 35,
   "id": "6170dc9e",
   "metadata": {},
   "outputs": [
    {
     "data": {
      "text/plain": [
       "[1, 2, 3, 4]"
      ]
     },
     "execution_count": 35,
     "metadata": {},
     "output_type": "execute_result"
    }
   ],
   "source": [
    "nums.insert(0, 1)\n",
    "nums"
   ]
  },
  {
   "cell_type": "code",
   "execution_count": 36,
   "id": "5b9fac9f",
   "metadata": {},
   "outputs": [],
   "source": [
    "nums.insert(2,'Python is fun')"
   ]
  },
  {
   "cell_type": "code",
   "execution_count": 37,
   "id": "8dea3925",
   "metadata": {},
   "outputs": [
    {
     "data": {
      "text/plain": [
       "[1, 2, 'Python is fun', 3, 4]"
      ]
     },
     "execution_count": 37,
     "metadata": {},
     "output_type": "execute_result"
    }
   ],
   "source": [
    "nums"
   ]
  },
  {
   "cell_type": "markdown",
   "id": "16672dec",
   "metadata": {},
   "source": [
    "a fun example:"
   ]
  },
  {
   "cell_type": "code",
   "execution_count": 55,
   "id": "3448fa47",
   "metadata": {},
   "outputs": [
    {
     "name": "stdout",
     "output_type": "stream",
     "text": [
      "Python is fun!\n",
      "['P', 'y', 't', 'h', 'o', 'n', ' ', 'i', 's', ' ', 'f', 'u', 'n', '!']\n",
      "['P', 'y', ' ', 'i', 's', ' ', 'o', 'n']\n",
      "Py is on\n"
     ]
    }
   ],
   "source": [
    "phrase = \"Python is fun!\"\n",
    "plist = list(phrase)\n",
    "print(phrase)\n",
    "print(plist)\n",
    "for i in range(4):\n",
    "    plist.pop()\n",
    "\n",
    "plist.remove('t')\n",
    "plist.remove('h')\n",
    "\n",
    "\n",
    "plist.remove('o')\n",
    "plist.remove('n')\n",
    "\n",
    "plist.append('o')\n",
    "plist.append('n')\n",
    "\n",
    "new_phrase =''.join(plist)\n",
    "print(plist)\n",
    "print(new_phrase)"
   ]
  },
  {
   "cell_type": "markdown",
   "id": "6a89a80e",
   "metadata": {},
   "source": [
    "What Looks Like a Copy, But Isn’t\n",
    "\n",
    "\n",
    "When to comes to copying an existing list to another one, it’s tempting to use\n",
    "the assignment operator:"
   ]
  },
  {
   "cell_type": "code",
   "execution_count": 50,
   "id": "c51b56f9",
   "metadata": {},
   "outputs": [
    {
     "data": {
      "text/plain": [
       "[1, 2, 3, 4, 5]"
      ]
     },
     "execution_count": 50,
     "metadata": {},
     "output_type": "execute_result"
    }
   ],
   "source": [
    "first = [1, 2, 3, 4, 5]\n",
    "first"
   ]
  },
  {
   "cell_type": "code",
   "execution_count": 51,
   "id": "3f8b8ebd",
   "metadata": {},
   "outputs": [
    {
     "data": {
      "text/plain": [
       "[1, 2, 3, 4, 5]"
      ]
     },
     "execution_count": 51,
     "metadata": {},
     "output_type": "execute_result"
    }
   ],
   "source": [
    "second = first\n",
    "second"
   ]
  },
  {
   "cell_type": "code",
   "execution_count": 52,
   "id": "ed2417af",
   "metadata": {},
   "outputs": [],
   "source": [
    "second.append(6)"
   ]
  },
  {
   "cell_type": "markdown",
   "id": "087128d6",
   "metadata": {},
   "source": [
    "Again, so far, so good—but there’s a bug here. Look what happens when we\n",
    "ask the shell to display the contents of first—the new object is appended\n",
    "to first too!"
   ]
  },
  {
   "cell_type": "code",
   "execution_count": 54,
   "id": "f077a42e",
   "metadata": {},
   "outputs": [
    {
     "data": {
      "text/plain": [
       "[1, 2, 3, 4, 5, 6]"
      ]
     },
     "execution_count": 54,
     "metadata": {},
     "output_type": "execute_result"
    }
   ],
   "source": [
    "first"
   ]
  },
  {
   "cell_type": "markdown",
   "id": "448947a5",
   "metadata": {},
   "source": [
    "How to Copy a Data Structure\n",
    "\n",
    "\n",
    "If using the assignment operator isn’t the way to copy one list to another,\n",
    "what is? What’s happening is that a reference to the list is shared among\n",
    "first and second.\n",
    "\n",
    "\n",
    "To solve this problem, lists come with a copy method, which does the right\n",
    "thing. Take a look at how copy works"
   ]
  },
  {
   "cell_type": "code",
   "execution_count": 56,
   "id": "a51b048d",
   "metadata": {},
   "outputs": [
    {
     "data": {
      "text/plain": [
       "[1, 2, 3, 4, 5, 6]"
      ]
     },
     "execution_count": 56,
     "metadata": {},
     "output_type": "execute_result"
    }
   ],
   "source": [
    "third = second.copy()\n",
    "third\n"
   ]
  },
  {
   "cell_type": "code",
   "execution_count": 57,
   "id": "92246088",
   "metadata": {},
   "outputs": [
    {
     "data": {
      "text/plain": [
       "[1, 2, 3, 4, 5, 6, 7]"
      ]
     },
     "execution_count": 57,
     "metadata": {},
     "output_type": "execute_result"
    }
   ],
   "source": [
    "third.append(7)\n",
    "third"
   ]
  },
  {
   "cell_type": "markdown",
   "id": "02ff7760",
   "metadata": {},
   "source": [
    "the new object is only added to the “third” list, not to the other two lists (“first” and “second”)"
   ]
  },
  {
   "cell_type": "code",
   "execution_count": 58,
   "id": "16956d80",
   "metadata": {},
   "outputs": [
    {
     "data": {
      "text/plain": [
       "[1, 2, 3, 4, 5, 6]"
      ]
     },
     "execution_count": 58,
     "metadata": {},
     "output_type": "execute_result"
    }
   ],
   "source": [
    "second"
   ]
  },
  {
   "cell_type": "markdown",
   "id": "281c89f3",
   "metadata": {},
   "source": [
    "Python supports the square bracket notation, and then some.\n",
    "\n",
    "\n",
    "Everyone who has used square brackets with an array in almost any other programming language knows that they can access the first value in an array called names using names[0]. The next value is in names[1], the next in names[2], and so on. Python works this way, too, when it comes to accessing objects in any list.\n",
    "However, Python extends the notation to improve upon this standardized behavior by supporting negative index values (-1, -2, -3, and so on) as well as a notation to select a range of objects from a list."
   ]
  },
  {
   "cell_type": "markdown",
   "id": "6080aceb",
   "metadata": {},
   "source": [
    "Lists Extend the Square Bracket Notation\n",
    "\n",
    "\n",
    "All our talk of Python’s lists being like arrays in other programming languages wasn’t just idle talk. Like other languages, Python starts counting from zero when it comes to\n",
    "numbering index locations, and uses the well-known square bracket notation to access objects in a list.\n",
    "Unlike a lot of other programming languages, Python lets you access the list relative to each end: positive index values count from left to right, whereas negative index values\n",
    "count from right to left:"
   ]
  },
  {
   "cell_type": "code",
   "execution_count": 81,
   "id": "8a4d382b",
   "metadata": {},
   "outputs": [
    {
     "name": "stdout",
     "output_type": "stream",
     "text": [
      "['L', 'e', 't', \"'\", 's', ' ', 'c', 'o', 'd', 'e', ' ', 's', 'o', 'm', 'e', 't', 'h', 'i', 'n', 'g', ' ', 'i', 'n', ' ', 'p', 'y', 't', 'h', 'o', 'n']\n"
     ]
    }
   ],
   "source": [
    "saying = \"Let's code something in python\"\n",
    "letters = list(saying)\n",
    "print(letters)"
   ]
  },
  {
   "cell_type": "code",
   "execution_count": 82,
   "id": "4ed53192",
   "metadata": {},
   "outputs": [
    {
     "name": "stdout",
     "output_type": "stream",
     "text": [
      "L e n\n"
     ]
    }
   ],
   "source": [
    "print(letters[0], letters[1], letters[-1])"
   ]
  },
  {
   "cell_type": "markdown",
   "id": "941c9a5d",
   "metadata": {},
   "source": [
    "As lists grow and shrink while your Python code executes, being able to index into the list using a negative index value is often useful. For instance, using -1 as the index value is always guaranteed to return the last object in the list no matter how big the list is, just as using 0 always returns the first object.\n",
    "\n",
    "\n",
    "Python’s extensions to the square bracket notation don’t stop with support for negative index values. Lists understand start, stop, and step, too."
   ]
  },
  {
   "cell_type": "markdown",
   "id": "242edc60",
   "metadata": {},
   "source": [
    "Recall what start, stop, and step mean when it comes to specifying ranges (and let’s relate them to lists):\n",
    "    \n",
    "    \n",
    "    The START value lets you control WHERE the range begins.\n",
    "        When used with lists, the start value indicates the starting index value.\n",
    "    The STOP value lets you control WHEN the range ends.\n",
    "        When used with lists, the stop value indicates the index value to stop at, but not include.\n",
    "    The STEP value lets you control HOW the range is generated.\n",
    "        When used with lists, the step value refers to the stride to take."
   ]
  },
  {
   "cell_type": "markdown",
   "id": "282a125e",
   "metadata": {},
   "source": [
    "You can put start, stop, and step inside square brackets\n",
    "\n",
    "\n",
    "When used with lists, start, stop, and step are specified within the square brackets and\n",
    "are separated from one another by the colon (:) character:\n",
    "\n",
    "    letters[start:stop:step]\n",
    "\n",
    "It might seem somewhat counterintuitive, but all three values are optional when used\n",
    "together:\n",
    "\n",
    "    When start is missing, it has a default value of 0.\n",
    "    When stop is missing, it takes on the maximum value allowable for the list.\n",
    "    When step is missing, it has a default value of 1."
   ]
  },
  {
   "cell_type": "code",
   "execution_count": 63,
   "id": "3d6f4851",
   "metadata": {},
   "outputs": [
    {
     "data": {
      "text/plain": [
       "['L', \"'\", 'c', 'e']"
      ]
     },
     "execution_count": 63,
     "metadata": {},
     "output_type": "execute_result"
    }
   ],
   "source": [
    "letters[0:10:3]"
   ]
  },
  {
   "cell_type": "code",
   "execution_count": 64,
   "id": "3ae4ed31",
   "metadata": {},
   "outputs": [
    {
     "data": {
      "text/plain": [
       "['L', 'e', 't', \"'\", 's', ' ', 'c', 'o', 'd', 'e']"
      ]
     },
     "execution_count": 64,
     "metadata": {},
     "output_type": "execute_result"
    }
   ],
   "source": [
    "letters[:10]"
   ]
  },
  {
   "cell_type": "code",
   "execution_count": 65,
   "id": "28df21e5",
   "metadata": {},
   "outputs": [
    {
     "data": {
      "text/plain": [
       "['L', 't', 's', 'c', 'd', ' ', 'o', 'e', 'h', 'n', ' ', 'n', 'p', 't', 'o']"
      ]
     },
     "execution_count": 65,
     "metadata": {},
     "output_type": "execute_result"
    }
   ],
   "source": [
    "letters[::2]"
   ]
  },
  {
   "cell_type": "code",
   "execution_count": 66,
   "id": "9ef70e48",
   "metadata": {},
   "outputs": [
    {
     "data": {
      "text/plain": [
       "'python'"
      ]
     },
     "execution_count": 66,
     "metadata": {},
     "output_type": "execute_result"
    }
   ],
   "source": [
    "''.join(letters[-6:])"
   ]
  },
  {
   "cell_type": "markdown",
   "id": "f277667c",
   "metadata": {},
   "source": [
    "After starting and stopping, stepping with lists has some uses:"
   ]
  },
  {
   "cell_type": "markdown",
   "id": "a7866799",
   "metadata": {},
   "source": [
    "The first example selects all the letters, starting from the end of the list (that is, it is selecting in reverse), whereas the second selects every other letter in the list. Note how\n",
    "the step value controls this behavior:"
   ]
  },
  {
   "cell_type": "code",
   "execution_count": 70,
   "id": "076bb3f3",
   "metadata": {},
   "outputs": [
    {
     "name": "stdout",
     "output_type": "stream",
     "text": [
      "nohtyp ni gnihtemos edoc s'teL\n"
     ]
    }
   ],
   "source": [
    "backwards = letters[::-1]\n",
    "print(''.join(backwards))"
   ]
  },
  {
   "cell_type": "code",
   "execution_count": 78,
   "id": "d4b5527f",
   "metadata": {},
   "outputs": [
    {
     "name": "stdout",
     "output_type": "stream",
     "text": [
      "Ltscd oehn npto\n"
     ]
    }
   ],
   "source": [
    "backwards = letters[::2]\n",
    "print(''.join(backwards))"
   ]
  },
  {
   "cell_type": "code",
   "execution_count": 88,
   "id": "2cb564c6",
   "metadata": {},
   "outputs": [
    {
     "name": "stdout",
     "output_type": "stream",
     "text": [
      " en\n"
     ]
    }
   ],
   "source": [
    "print(''.join(backwards[5:10:2]))"
   ]
  },
  {
   "cell_type": "markdown",
   "id": "e59a270c",
   "metadata": {},
   "source": [
    "Slices are everywhere\n",
    "\n",
    "\n",
    "The slice notation doesn’t just work with lists. In fact, you’ll find that you can slice any\n",
    "sequence in Python, accessing it with [start:stop:step]."
   ]
  },
  {
   "cell_type": "code",
   "execution_count": 90,
   "id": "8097fa35",
   "metadata": {},
   "outputs": [
    {
     "name": "stdout",
     "output_type": "stream",
     "text": [
      "Python is fun!\n",
      "['P', 'y', 't', 'h', 'o', 'n', ' ', 'i', 's', ' ', 'f', 'u', 'n', '!']\n",
      "['P', 'y', 't', 'h', 'o', 'n', ' ', 'i', 's', ' ', 'f', 'u', 'n', '!']\n",
      "Py is on\n"
     ]
    }
   ],
   "source": [
    "phrase = \"Python is fun!\"\n",
    "plist = list(phrase)\n",
    "print(phrase)\n",
    "print(plist)\n",
    "\n",
    "new_phrase =''.join(plist[:2])\n",
    "new_phrase = new_phrase + ' ' +  ''.join(plist[7:9]) + ' ' + ''.join(plist[4:6])\n",
    "\n",
    "print(plist)\n",
    "print(new_phrase)"
   ]
  },
  {
   "cell_type": "markdown",
   "id": "7af9d280",
   "metadata": {},
   "source": [
    "The list methods used by the program before to convert one string into another were destructive, in that the original state of the list was altered by the code. \n",
    "\n",
    "Slicing a list is nondestructive, as extracting objects from an\n",
    "existing list does not alter it; the original data remains intact.\n",
    " \n",
    "Each slice in the second code extracts data from the list, but does not change it. Here are the two lines of code that do all the heavy lifting, together with a representation of the data each slice extracts:"
   ]
  },
  {
   "cell_type": "markdown",
   "id": "6e060372",
   "metadata": {},
   "source": [
    "Which of these two approaches you decide is “better” depends on what you are trying to do (and it’s perfectly OK not to like either). There is always more than one way to perform a computation, and Python lists are flexible enough to support many ways of interacting with the data you store in them."
   ]
  },
  {
   "cell_type": "code",
   "execution_count": 91,
   "id": "390249a0",
   "metadata": {},
   "outputs": [
    {
     "data": {
      "text/plain": [
       "'et'"
      ]
     },
     "execution_count": 91,
     "metadata": {},
     "output_type": "execute_result"
    }
   ],
   "source": [
    "new_letters = ''.join(letters[1:3])\n",
    "new_letters"
   ]
  },
  {
   "cell_type": "code",
   "execution_count": 93,
   "id": "de87dee7",
   "metadata": {},
   "outputs": [
    {
     "name": "stdout",
     "output_type": "stream",
     "text": [
      "Let's code something in python\n"
     ]
    }
   ],
   "source": [
    "print(''.join(letters))"
   ]
  },
  {
   "cell_type": "markdown",
   "id": "f55a91a4",
   "metadata": {},
   "source": [
    "Python’s “for” Loop Understands Lists\n",
    "\n",
    "\n",
    "Python’s for loop knows all about lists and, when provided with any list, knows where the start of the list is, how many objects the list contains, and where the end of the list is. You never have to tell the for loop any of this, as it works it out for itself."
   ]
  },
  {
   "cell_type": "code",
   "execution_count": 94,
   "id": "a0a19381",
   "metadata": {},
   "outputs": [
    {
     "name": "stdout",
     "output_type": "stream",
     "text": [
      "\t A\n",
      "\t r\n",
      "\t t\n",
      "\t i\n",
      "\t f\n",
      "\t i\n",
      "\t c\n",
      "\t i\n",
      "\t a\n",
      "\t l\n",
      "\t  \n",
      "\t I\n",
      "\t n\n",
      "\t t\n",
      "\t e\n",
      "\t l\n",
      "\t l\n",
      "\t i\n",
      "\t g\n",
      "\t e\n",
      "\t n\n",
      "\t c\n",
      "\t e\n"
     ]
    }
   ],
   "source": [
    "value = 'Artificial Intelligence'\n",
    "letter = list(value)\n",
    "for char in letter:\n",
    "    print('\\t', char)"
   ]
  },
  {
   "cell_type": "markdown",
   "id": "f775795e",
   "metadata": {},
   "source": [
    "On each iteration, the for loop arranges to take each object in the letters\n",
    "list and assign them one at a time to another variable, called char. Within the\n",
    "indented loop body char takes on the current value of the object being processed\n",
    "by the for loop. Note that the for loop knows when to start iterating, when to\n",
    "stop iterating, as well as how many objects are in the letters list. You don’t need\n",
    "to worry about any of this: that’s the interpreter’s job."
   ]
  },
  {
   "cell_type": "markdown",
   "id": "28630147",
   "metadata": {},
   "source": [
    "Python’s “for” Loop Understands Slices\n",
    "\n",
    "If you use the square bracket notation to select a slice from a list, the for loop “does the right thing” and only iterates over the sliced objects. An update to our most recent program shows this in action"
   ]
  },
  {
   "cell_type": "code",
   "execution_count": 95,
   "id": "b5c7d1c0",
   "metadata": {},
   "outputs": [
    {
     "name": "stdout",
     "output_type": "stream",
     "text": [
      "\t A\n",
      "\t r\n",
      "\t t\n",
      "\t i\n",
      "\t f\n",
      "\t i\n",
      "\t c\n",
      "\t i\n",
      "\t a\n",
      "\t l\n",
      "\t\t I\n",
      "\t\t n\n",
      "\t\t t\n",
      "\t\t e\n",
      "\t\t l\n",
      "\t\t l\n",
      "\t\t i\n",
      "\t\t g\n",
      "\t\t e\n",
      "\t\t n\n",
      "\t\t c\n",
      "\t\t e\n"
     ]
    }
   ],
   "source": [
    "value = 'Artificial Intelligence'\n",
    "letter = list(value)\n",
    "for char in letter[:10]:\n",
    "    print('\\t', char)\n",
    "for char in letter[11:]:\n",
    "    print('\\t'*2, char)"
   ]
  },
  {
   "cell_type": "markdown",
   "id": "236b16f8",
   "metadata": {},
   "source": [
    "Lists can be used in lots of places; if you have a collection of similar objects that you need to store in a data structure, lists are the perfect choice.\n",
    "However—and perhaps somewhat counterintuitively—if the data you’re working with exhibits some structure, lists can be a\n",
    "bad choice"
   ]
  },
  {
   "cell_type": "markdown",
   "id": "205fcc4b",
   "metadata": {},
   "source": [
    "Imagine you need to store data about a person, and the sample data you’ve been given looks something like this:\n",
    "\n",
    "    Name : Something\n",
    "    Gender : Female\n",
    "    Occupation : Teacher\n",
    "    Address : NIELIT Calicut\n",
    "    "
   ]
  },
  {
   "cell_type": "markdown",
   "id": "4fdd1910",
   "metadata": {},
   "source": [
    "If the data you want to store has an identifiable structure, consider using something other than a list."
   ]
  },
  {
   "cell_type": "markdown",
   "id": "ffb5d79a",
   "metadata": {},
   "source": []
  }
 ],
 "metadata": {
  "kernelspec": {
   "display_name": "Python [conda env:base] *",
   "language": "python",
   "name": "conda-base-py"
  },
  "language_info": {
   "codemirror_mode": {
    "name": "ipython",
    "version": 3
   },
   "file_extension": ".py",
   "mimetype": "text/x-python",
   "name": "python",
   "nbconvert_exporter": "python",
   "pygments_lexer": "ipython3",
   "version": "3.12.7"
  }
 },
 "nbformat": 4,
 "nbformat_minor": 5
}
